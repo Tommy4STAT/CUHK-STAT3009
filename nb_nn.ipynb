{
  "nbformat": 4,
  "nbformat_minor": 0,
  "metadata": {
    "colab": {
      "provenance": [],
      "collapsed_sections": [
        "gVmOasuocOoJ"
      ]
    },
    "kernelspec": {
      "name": "python3",
      "display_name": "Python 3"
    },
    "language_info": {
      "name": "python"
    }
  },
  "cells": [
    {
      "cell_type": "markdown",
      "source": [
        "# **CUHK-STAT3009**: Notebook - Neural Networks\n",
        "\n",
        "\n"
      ],
      "metadata": {
        "id": "2Ir33kw5bYIJ"
      }
    },
    {
      "cell_type": "markdown",
      "source": [
        "## Introduction to Deep learning with Keras\n",
        "\n",
        "- `Model`: input -> layers -> output\n",
        "- `Loss`: find an appropriate loss function for your problem\n",
        "- `Algo`: SGD, Adam, ...\n",
        "- `Data`: Define the model, then feed the data\n",
        "- `metric`: final evaluation or something you care\n",
        "\n"
      ],
      "metadata": {
        "id": "gVmOasuocOoJ"
      }
    },
    {
      "cell_type": "markdown",
      "source": [
        "## Example 1: Imbalanced classification: credit card fraud detection\n",
        "\n",
        "- Author: fchollet\n",
        "- Date created: 2019/05/28\n",
        "- Last modified: 2020/04/17\n",
        "- Description: Demonstration of how to handle highly imbalanced classification problems."
      ],
      "metadata": {
        "id": "vp6A5K-Ak594"
      }
    },
    {
      "cell_type": "code",
      "source": [
        "!wget https://raw.githubusercontent.com/nsethi31/Kaggle-Data-Credit-Card-Fraud-Detection/master/creditcard.csv\n"
      ],
      "metadata": {
        "colab": {
          "base_uri": "https://localhost:8080/"
        },
        "id": "l6TsO0KtIMRb",
        "outputId": "728d8132-9023-40b5-ca11-dc693d37e7c4"
      },
      "execution_count": null,
      "outputs": [
        {
          "output_type": "stream",
          "name": "stdout",
          "text": [
            "--2022-10-31 08:24:41--  https://raw.githubusercontent.com/nsethi31/Kaggle-Data-Credit-Card-Fraud-Detection/master/creditcard.csv\n",
            "Resolving raw.githubusercontent.com (raw.githubusercontent.com)... 185.199.108.133, 185.199.109.133, 185.199.110.133, ...\n",
            "Connecting to raw.githubusercontent.com (raw.githubusercontent.com)|185.199.108.133|:443... connected.\n",
            "HTTP request sent, awaiting response... 200 OK\n",
            "Length: 102634230 (98M) [text/plain]\n",
            "Saving to: ‘creditcard.csv’\n",
            "\n",
            "creditcard.csv      100%[===================>]  97.88M   234MB/s    in 0.4s    \n",
            "\n",
            "2022-10-31 08:24:42 (234 MB/s) - ‘creditcard.csv’ saved [102634230/102634230]\n",
            "\n"
          ]
        }
      ]
    },
    {
      "cell_type": "code",
      "source": [
        "!head -n 5 creditcard.csv"
      ],
      "metadata": {
        "colab": {
          "base_uri": "https://localhost:8080/"
        },
        "id": "CS6VIrg5Iv65",
        "outputId": "4ab77746-1682-4f1c-a38b-c1b2a9921eea"
      },
      "execution_count": null,
      "outputs": [
        {
          "output_type": "stream",
          "name": "stdout",
          "text": [
            "Time,V1,V2,V3,V4,V5,V6,V7,V8,V9,V10,V11,V12,V13,V14,V15,V16,V17,V18,V19,V20,V21,V22,V23,V24,V25,V26,V27,V28,Amount,Class\n",
            "0,-1.359807134,-0.072781173,2.536346738,1.378155224,-0.33832077,0.462387778,0.239598554,0.098697901,0.36378697,0.090794172,-0.551599533,-0.617800856,-0.991389847,-0.311169354,1.468176972,-0.470400525,0.207971242,0.02579058,0.40399296,0.251412098,-0.018306778,0.277837576,-0.11047391,0.066928075,0.128539358,-0.189114844,0.133558377,-0.021053053,149.62,0\n",
            "0,1.191857111,0.266150712,0.166480113,0.448154078,0.060017649,-0.082360809,-0.078802983,0.085101655,-0.255425128,-0.166974414,1.612726661,1.065235311,0.489095016,-0.143772296,0.635558093,0.463917041,-0.114804663,-0.18336127,-0.145783041,-0.069083135,-0.225775248,-0.638671953,0.101288021,-0.339846476,0.167170404,0.125894532,-0.008983099,0.014724169,2.69,0\n",
            "1,-1.358354062,-1.340163075,1.773209343,0.379779593,-0.503198133,1.800499381,0.791460956,0.247675787,-1.514654323,0.207642865,0.624501459,0.066083685,0.717292731,-0.165945923,2.345864949,-2.890083194,1.109969379,-0.121359313,-2.261857095,0.524979725,0.247998153,0.771679402,0.909412262,-0.689280956,-0.327641834,-0.139096572,-0.055352794,-0.059751841,378.66,0\n",
            "1,-0.966271712,-0.185226008,1.79299334,-0.863291275,-0.01030888,1.247203168,0.23760894,0.377435875,-1.387024063,-0.054951922,-0.226487264,0.178228226,0.50775687,-0.287923745,-0.631418118,-1.059647245,-0.684092786,1.965775003,-1.23262197,-0.208037781,-0.108300452,0.005273597,-0.190320519,-1.175575332,0.647376035,-0.221928844,0.062722849,0.061457629,123.5,0\n"
          ]
        }
      ]
    },
    {
      "cell_type": "code",
      "execution_count": null,
      "metadata": {
        "colab": {
          "base_uri": "https://localhost:8080/"
        },
        "id": "HYWJNFkEbNqO",
        "outputId": "f4b69dc2-3be5-487b-be9c-efda9377597c"
      },
      "outputs": [
        {
          "output_type": "stream",
          "name": "stdout",
          "text": [
            "features.shape: (284807, 31)\n",
            "targets.shape: (284807,)\n"
          ]
        }
      ],
      "source": [
        "# https://keras.io/examples/structured_data/imbalanced_classification/\n",
        "\n",
        "import csv\n",
        "import numpy as np\n",
        "import pandas as pd\n",
        "\n",
        "fname = \"./creditcard.csv\"\n",
        "\n",
        "# original code\n",
        "# all_features = []\n",
        "# all_targets = []\n",
        "# with open(fname) as f:\n",
        "#     for i, line in enumerate(f):\n",
        "#         if i == 0:\n",
        "#             print(\"HEADER:\", line.strip())\n",
        "#             continue  # Skip header\n",
        "#         fields = line.strip().split(\",\")\n",
        "#         all_features.append([float(v.replace('\"', \"\")) for v in fields[:-1]])\n",
        "#         all_targets.append([int(fields[-1].replace('\"', \"\"))])\n",
        "#         if i == 1:\n",
        "#             print(\"EXAMPLE FEATURES:\", all_features[-1])\n",
        "\n",
        "df = pd.read_csv(fname)\n",
        "\n",
        "targets = np.array(df['Class'], dtype=\"uint8\")\n",
        "df.drop(['Class', 'Amount', 'Time'], axis=1)\n",
        "features = np.array(df.values, dtype=\"float32\")\n",
        "print(\"features.shape:\", features.shape)\n",
        "print(\"targets.shape:\", targets.shape)"
      ]
    },
    {
      "cell_type": "code",
      "source": [
        "df.sample(5).T"
      ],
      "metadata": {
        "colab": {
          "base_uri": "https://localhost:8080/",
          "height": 1000
        },
        "id": "mOZnOoJylWcr",
        "outputId": "4b92199a-3a87-4bee-c2a5-bab34693a65a"
      },
      "execution_count": null,
      "outputs": [
        {
          "output_type": "execute_result",
          "data": {
            "text/plain": [
              "              108578        17176         39781         94255         91114 \n",
              "Time    70972.000000  28499.000000  39962.000000  64804.000000  63319.000000\n",
              "V1         -0.750074      1.236056      0.719367     -0.883482     -1.117178\n",
              "V2          0.735973      0.519209     -1.081056      0.269455      0.718080\n",
              "V3          0.935688     -0.073251      1.895041      2.363623      0.744803\n",
              "V4         -0.891460      0.981566      1.066609     -0.969322     -1.400623\n",
              "V5         -0.329783      0.177718     -1.098797     -0.545099      0.174676\n",
              "V6         -1.186985     -0.846329      2.386458      0.031023     -0.711423\n",
              "V7          0.296088      0.510512     -1.487785      0.711851      0.687726\n",
              "V8          0.044064     -0.260361      0.880024     -0.056098      0.448037\n",
              "V9         -2.357388     -0.677051      1.859406      0.494021     -1.034041\n",
              "V10         0.037852      0.187717     -0.758661     -0.709264     -1.001281\n",
              "V11        -0.219558      1.491288     -0.078968     -1.140419      1.318505\n",
              "V12        -0.118523      1.391579      1.537605     -0.354655      0.633639\n",
              "V13         1.537225      0.828559      0.339249     -0.024176     -0.596050\n",
              "V14         0.109265      0.577791     -1.232615     -0.737600      0.950374\n",
              "V15         0.467239     -0.118950     -0.377498      0.241895     -0.258352\n",
              "V16         0.402676     -0.063039     -1.716299      0.568399      0.260403\n",
              "V17         0.804700     -0.616534      1.634264     -0.733958     -0.148395\n",
              "V18        -1.465085      0.013164     -2.245695      0.163794     -0.829735\n",
              "V19         1.512699      0.031358     -1.417710     -0.350258     -0.219923\n",
              "V20         0.277756     -0.086518     -0.037049      0.398915     -0.091029\n",
              "V21         0.320275      0.064680      0.256048      0.046453     -0.156464\n",
              "V22         0.712434      0.254057      1.229448      0.311064     -0.867247\n",
              "V23        -0.382213     -0.168464     -0.043153     -0.192827      0.132027\n",
              "V24         0.484266      0.375411     -0.507957     -0.050692      0.045280\n",
              "V25         0.694264      0.854098      0.031718      0.356303     -0.321241\n",
              "V26         0.044650     -0.316753      0.813117      1.052059      0.944894\n",
              "V27        -0.085395     -0.005646      0.118398      0.026337     -0.196538\n",
              "V28        -0.028691      0.002622      0.035257     -0.102907     -0.024937\n",
              "Amount     15.000000      1.000000    104.000000    109.000000     48.790000\n",
              "Class       0.000000      0.000000      0.000000      0.000000      0.000000"
            ],
            "text/html": [
              "\n",
              "  <div id=\"df-912a33e6-8bdc-4430-abef-b92360b01891\">\n",
              "    <div class=\"colab-df-container\">\n",
              "      <div>\n",
              "<style scoped>\n",
              "    .dataframe tbody tr th:only-of-type {\n",
              "        vertical-align: middle;\n",
              "    }\n",
              "\n",
              "    .dataframe tbody tr th {\n",
              "        vertical-align: top;\n",
              "    }\n",
              "\n",
              "    .dataframe thead th {\n",
              "        text-align: right;\n",
              "    }\n",
              "</style>\n",
              "<table border=\"1\" class=\"dataframe\">\n",
              "  <thead>\n",
              "    <tr style=\"text-align: right;\">\n",
              "      <th></th>\n",
              "      <th>108578</th>\n",
              "      <th>17176</th>\n",
              "      <th>39781</th>\n",
              "      <th>94255</th>\n",
              "      <th>91114</th>\n",
              "    </tr>\n",
              "  </thead>\n",
              "  <tbody>\n",
              "    <tr>\n",
              "      <th>Time</th>\n",
              "      <td>70972.000000</td>\n",
              "      <td>28499.000000</td>\n",
              "      <td>39962.000000</td>\n",
              "      <td>64804.000000</td>\n",
              "      <td>63319.000000</td>\n",
              "    </tr>\n",
              "    <tr>\n",
              "      <th>V1</th>\n",
              "      <td>-0.750074</td>\n",
              "      <td>1.236056</td>\n",
              "      <td>0.719367</td>\n",
              "      <td>-0.883482</td>\n",
              "      <td>-1.117178</td>\n",
              "    </tr>\n",
              "    <tr>\n",
              "      <th>V2</th>\n",
              "      <td>0.735973</td>\n",
              "      <td>0.519209</td>\n",
              "      <td>-1.081056</td>\n",
              "      <td>0.269455</td>\n",
              "      <td>0.718080</td>\n",
              "    </tr>\n",
              "    <tr>\n",
              "      <th>V3</th>\n",
              "      <td>0.935688</td>\n",
              "      <td>-0.073251</td>\n",
              "      <td>1.895041</td>\n",
              "      <td>2.363623</td>\n",
              "      <td>0.744803</td>\n",
              "    </tr>\n",
              "    <tr>\n",
              "      <th>V4</th>\n",
              "      <td>-0.891460</td>\n",
              "      <td>0.981566</td>\n",
              "      <td>1.066609</td>\n",
              "      <td>-0.969322</td>\n",
              "      <td>-1.400623</td>\n",
              "    </tr>\n",
              "    <tr>\n",
              "      <th>V5</th>\n",
              "      <td>-0.329783</td>\n",
              "      <td>0.177718</td>\n",
              "      <td>-1.098797</td>\n",
              "      <td>-0.545099</td>\n",
              "      <td>0.174676</td>\n",
              "    </tr>\n",
              "    <tr>\n",
              "      <th>V6</th>\n",
              "      <td>-1.186985</td>\n",
              "      <td>-0.846329</td>\n",
              "      <td>2.386458</td>\n",
              "      <td>0.031023</td>\n",
              "      <td>-0.711423</td>\n",
              "    </tr>\n",
              "    <tr>\n",
              "      <th>V7</th>\n",
              "      <td>0.296088</td>\n",
              "      <td>0.510512</td>\n",
              "      <td>-1.487785</td>\n",
              "      <td>0.711851</td>\n",
              "      <td>0.687726</td>\n",
              "    </tr>\n",
              "    <tr>\n",
              "      <th>V8</th>\n",
              "      <td>0.044064</td>\n",
              "      <td>-0.260361</td>\n",
              "      <td>0.880024</td>\n",
              "      <td>-0.056098</td>\n",
              "      <td>0.448037</td>\n",
              "    </tr>\n",
              "    <tr>\n",
              "      <th>V9</th>\n",
              "      <td>-2.357388</td>\n",
              "      <td>-0.677051</td>\n",
              "      <td>1.859406</td>\n",
              "      <td>0.494021</td>\n",
              "      <td>-1.034041</td>\n",
              "    </tr>\n",
              "    <tr>\n",
              "      <th>V10</th>\n",
              "      <td>0.037852</td>\n",
              "      <td>0.187717</td>\n",
              "      <td>-0.758661</td>\n",
              "      <td>-0.709264</td>\n",
              "      <td>-1.001281</td>\n",
              "    </tr>\n",
              "    <tr>\n",
              "      <th>V11</th>\n",
              "      <td>-0.219558</td>\n",
              "      <td>1.491288</td>\n",
              "      <td>-0.078968</td>\n",
              "      <td>-1.140419</td>\n",
              "      <td>1.318505</td>\n",
              "    </tr>\n",
              "    <tr>\n",
              "      <th>V12</th>\n",
              "      <td>-0.118523</td>\n",
              "      <td>1.391579</td>\n",
              "      <td>1.537605</td>\n",
              "      <td>-0.354655</td>\n",
              "      <td>0.633639</td>\n",
              "    </tr>\n",
              "    <tr>\n",
              "      <th>V13</th>\n",
              "      <td>1.537225</td>\n",
              "      <td>0.828559</td>\n",
              "      <td>0.339249</td>\n",
              "      <td>-0.024176</td>\n",
              "      <td>-0.596050</td>\n",
              "    </tr>\n",
              "    <tr>\n",
              "      <th>V14</th>\n",
              "      <td>0.109265</td>\n",
              "      <td>0.577791</td>\n",
              "      <td>-1.232615</td>\n",
              "      <td>-0.737600</td>\n",
              "      <td>0.950374</td>\n",
              "    </tr>\n",
              "    <tr>\n",
              "      <th>V15</th>\n",
              "      <td>0.467239</td>\n",
              "      <td>-0.118950</td>\n",
              "      <td>-0.377498</td>\n",
              "      <td>0.241895</td>\n",
              "      <td>-0.258352</td>\n",
              "    </tr>\n",
              "    <tr>\n",
              "      <th>V16</th>\n",
              "      <td>0.402676</td>\n",
              "      <td>-0.063039</td>\n",
              "      <td>-1.716299</td>\n",
              "      <td>0.568399</td>\n",
              "      <td>0.260403</td>\n",
              "    </tr>\n",
              "    <tr>\n",
              "      <th>V17</th>\n",
              "      <td>0.804700</td>\n",
              "      <td>-0.616534</td>\n",
              "      <td>1.634264</td>\n",
              "      <td>-0.733958</td>\n",
              "      <td>-0.148395</td>\n",
              "    </tr>\n",
              "    <tr>\n",
              "      <th>V18</th>\n",
              "      <td>-1.465085</td>\n",
              "      <td>0.013164</td>\n",
              "      <td>-2.245695</td>\n",
              "      <td>0.163794</td>\n",
              "      <td>-0.829735</td>\n",
              "    </tr>\n",
              "    <tr>\n",
              "      <th>V19</th>\n",
              "      <td>1.512699</td>\n",
              "      <td>0.031358</td>\n",
              "      <td>-1.417710</td>\n",
              "      <td>-0.350258</td>\n",
              "      <td>-0.219923</td>\n",
              "    </tr>\n",
              "    <tr>\n",
              "      <th>V20</th>\n",
              "      <td>0.277756</td>\n",
              "      <td>-0.086518</td>\n",
              "      <td>-0.037049</td>\n",
              "      <td>0.398915</td>\n",
              "      <td>-0.091029</td>\n",
              "    </tr>\n",
              "    <tr>\n",
              "      <th>V21</th>\n",
              "      <td>0.320275</td>\n",
              "      <td>0.064680</td>\n",
              "      <td>0.256048</td>\n",
              "      <td>0.046453</td>\n",
              "      <td>-0.156464</td>\n",
              "    </tr>\n",
              "    <tr>\n",
              "      <th>V22</th>\n",
              "      <td>0.712434</td>\n",
              "      <td>0.254057</td>\n",
              "      <td>1.229448</td>\n",
              "      <td>0.311064</td>\n",
              "      <td>-0.867247</td>\n",
              "    </tr>\n",
              "    <tr>\n",
              "      <th>V23</th>\n",
              "      <td>-0.382213</td>\n",
              "      <td>-0.168464</td>\n",
              "      <td>-0.043153</td>\n",
              "      <td>-0.192827</td>\n",
              "      <td>0.132027</td>\n",
              "    </tr>\n",
              "    <tr>\n",
              "      <th>V24</th>\n",
              "      <td>0.484266</td>\n",
              "      <td>0.375411</td>\n",
              "      <td>-0.507957</td>\n",
              "      <td>-0.050692</td>\n",
              "      <td>0.045280</td>\n",
              "    </tr>\n",
              "    <tr>\n",
              "      <th>V25</th>\n",
              "      <td>0.694264</td>\n",
              "      <td>0.854098</td>\n",
              "      <td>0.031718</td>\n",
              "      <td>0.356303</td>\n",
              "      <td>-0.321241</td>\n",
              "    </tr>\n",
              "    <tr>\n",
              "      <th>V26</th>\n",
              "      <td>0.044650</td>\n",
              "      <td>-0.316753</td>\n",
              "      <td>0.813117</td>\n",
              "      <td>1.052059</td>\n",
              "      <td>0.944894</td>\n",
              "    </tr>\n",
              "    <tr>\n",
              "      <th>V27</th>\n",
              "      <td>-0.085395</td>\n",
              "      <td>-0.005646</td>\n",
              "      <td>0.118398</td>\n",
              "      <td>0.026337</td>\n",
              "      <td>-0.196538</td>\n",
              "    </tr>\n",
              "    <tr>\n",
              "      <th>V28</th>\n",
              "      <td>-0.028691</td>\n",
              "      <td>0.002622</td>\n",
              "      <td>0.035257</td>\n",
              "      <td>-0.102907</td>\n",
              "      <td>-0.024937</td>\n",
              "    </tr>\n",
              "    <tr>\n",
              "      <th>Amount</th>\n",
              "      <td>15.000000</td>\n",
              "      <td>1.000000</td>\n",
              "      <td>104.000000</td>\n",
              "      <td>109.000000</td>\n",
              "      <td>48.790000</td>\n",
              "    </tr>\n",
              "    <tr>\n",
              "      <th>Class</th>\n",
              "      <td>0.000000</td>\n",
              "      <td>0.000000</td>\n",
              "      <td>0.000000</td>\n",
              "      <td>0.000000</td>\n",
              "      <td>0.000000</td>\n",
              "    </tr>\n",
              "  </tbody>\n",
              "</table>\n",
              "</div>\n",
              "      <button class=\"colab-df-convert\" onclick=\"convertToInteractive('df-912a33e6-8bdc-4430-abef-b92360b01891')\"\n",
              "              title=\"Convert this dataframe to an interactive table.\"\n",
              "              style=\"display:none;\">\n",
              "        \n",
              "  <svg xmlns=\"http://www.w3.org/2000/svg\" height=\"24px\"viewBox=\"0 0 24 24\"\n",
              "       width=\"24px\">\n",
              "    <path d=\"M0 0h24v24H0V0z\" fill=\"none\"/>\n",
              "    <path d=\"M18.56 5.44l.94 2.06.94-2.06 2.06-.94-2.06-.94-.94-2.06-.94 2.06-2.06.94zm-11 1L8.5 8.5l.94-2.06 2.06-.94-2.06-.94L8.5 2.5l-.94 2.06-2.06.94zm10 10l.94 2.06.94-2.06 2.06-.94-2.06-.94-.94-2.06-.94 2.06-2.06.94z\"/><path d=\"M17.41 7.96l-1.37-1.37c-.4-.4-.92-.59-1.43-.59-.52 0-1.04.2-1.43.59L10.3 9.45l-7.72 7.72c-.78.78-.78 2.05 0 2.83L4 21.41c.39.39.9.59 1.41.59.51 0 1.02-.2 1.41-.59l7.78-7.78 2.81-2.81c.8-.78.8-2.07 0-2.86zM5.41 20L4 18.59l7.72-7.72 1.47 1.35L5.41 20z\"/>\n",
              "  </svg>\n",
              "      </button>\n",
              "      \n",
              "  <style>\n",
              "    .colab-df-container {\n",
              "      display:flex;\n",
              "      flex-wrap:wrap;\n",
              "      gap: 12px;\n",
              "    }\n",
              "\n",
              "    .colab-df-convert {\n",
              "      background-color: #E8F0FE;\n",
              "      border: none;\n",
              "      border-radius: 50%;\n",
              "      cursor: pointer;\n",
              "      display: none;\n",
              "      fill: #1967D2;\n",
              "      height: 32px;\n",
              "      padding: 0 0 0 0;\n",
              "      width: 32px;\n",
              "    }\n",
              "\n",
              "    .colab-df-convert:hover {\n",
              "      background-color: #E2EBFA;\n",
              "      box-shadow: 0px 1px 2px rgba(60, 64, 67, 0.3), 0px 1px 3px 1px rgba(60, 64, 67, 0.15);\n",
              "      fill: #174EA6;\n",
              "    }\n",
              "\n",
              "    [theme=dark] .colab-df-convert {\n",
              "      background-color: #3B4455;\n",
              "      fill: #D2E3FC;\n",
              "    }\n",
              "\n",
              "    [theme=dark] .colab-df-convert:hover {\n",
              "      background-color: #434B5C;\n",
              "      box-shadow: 0px 1px 3px 1px rgba(0, 0, 0, 0.15);\n",
              "      filter: drop-shadow(0px 1px 2px rgba(0, 0, 0, 0.3));\n",
              "      fill: #FFFFFF;\n",
              "    }\n",
              "  </style>\n",
              "\n",
              "      <script>\n",
              "        const buttonEl =\n",
              "          document.querySelector('#df-912a33e6-8bdc-4430-abef-b92360b01891 button.colab-df-convert');\n",
              "        buttonEl.style.display =\n",
              "          google.colab.kernel.accessAllowed ? 'block' : 'none';\n",
              "\n",
              "        async function convertToInteractive(key) {\n",
              "          const element = document.querySelector('#df-912a33e6-8bdc-4430-abef-b92360b01891');\n",
              "          const dataTable =\n",
              "            await google.colab.kernel.invokeFunction('convertToInteractive',\n",
              "                                                     [key], {});\n",
              "          if (!dataTable) return;\n",
              "\n",
              "          const docLinkHtml = 'Like what you see? Visit the ' +\n",
              "            '<a target=\"_blank\" href=https://colab.research.google.com/notebooks/data_table.ipynb>data table notebook</a>'\n",
              "            + ' to learn more about interactive tables.';\n",
              "          element.innerHTML = '';\n",
              "          dataTable['output_type'] = 'display_data';\n",
              "          await google.colab.output.renderOutput(dataTable, element);\n",
              "          const docLink = document.createElement('div');\n",
              "          docLink.innerHTML = docLinkHtml;\n",
              "          element.appendChild(docLink);\n",
              "        }\n",
              "      </script>\n",
              "    </div>\n",
              "  </div>\n",
              "  "
            ]
          },
          "metadata": {},
          "execution_count": 11
        }
      ]
    },
    {
      "cell_type": "code",
      "source": [
        "## create train and valid datasets\n",
        "\n",
        "num_val_samples = int(len(features) * 0.2)\n",
        "train_features = features[:-num_val_samples]\n",
        "train_targets = targets[:-num_val_samples]\n",
        "test_features = features[-num_val_samples:]\n",
        "test_targets = targets[-num_val_samples:]\n",
        "\n",
        "print(\"Number of training samples:\", len(train_features))\n",
        "print(\"Number of testing samples:\", len(test_features))"
      ],
      "metadata": {
        "colab": {
          "base_uri": "https://localhost:8080/"
        },
        "id": "eyG18Ic9le37",
        "outputId": "349e1711-3917-4f6b-8377-e2a769443000"
      },
      "execution_count": null,
      "outputs": [
        {
          "output_type": "stream",
          "name": "stdout",
          "text": [
            "Number of training samples: 227846\n",
            "Number of testing samples: 56961\n"
          ]
        }
      ]
    },
    {
      "cell_type": "code",
      "source": [
        "## Data pre-processing\n",
        "\n",
        "mean = np.mean(train_features, axis=0)\n",
        "train_features -= mean\n",
        "test_features -= mean\n",
        "std = np.std(train_features, axis=0)\n",
        "train_features /= std\n",
        "test_features /= std"
      ],
      "metadata": {
        "id": "yDH3ifnflnZh"
      },
      "execution_count": null,
      "outputs": []
    },
    {
      "cell_type": "markdown",
      "source": [
        "## How to implement a neural network `tf.keras.Model`?\n",
        "\n",
        "- Define a network: input -> Layers -> output\n",
        "- compile a network: `model.compile`\n",
        "- fit a network: `model.fit`"
      ],
      "metadata": {
        "id": "WmLr_1gfJd8B"
      }
    },
    {
      "cell_type": "markdown",
      "source": [
        "### Define a neural network by `tf.keras.Model`\n",
        "\n",
        "> `tf.keras.Model(*args, **kwargs)`\n",
        "\n",
        "**Args**\n",
        "- inputs:\tThe input(s) of the model: a keras.Input object or list of keras.Input objects.\n",
        "\n",
        "- outputs: The output(s) of the model. See Functional API example below.\n",
        "name \tString, the name of the model. \n",
        "\n",
        "- Layers: use different types of layers to construct your own networks\n",
        "\n",
        "The key point is how to connect from `inputs` to `outputs`"
      ],
      "metadata": {
        "id": "THF_H3MQmmdV"
      }
    },
    {
      "cell_type": "code",
      "source": [
        "## Build binary classifcation model\n",
        "\n",
        "## Input -> Dense -> Dense -> output\n",
        "from tensorflow import keras\n",
        "\n",
        "model = keras.Sequential(\n",
        "    [\n",
        "        keras.layers.Dense(\n",
        "            256, activation=\"relu\", input_shape=(train_features.shape[-1],)\n",
        "        ),\n",
        "        keras.layers.Dense(256, activation=\"relu\"),\n",
        "        keras.layers.Dense(256, activation=\"relu\"),\n",
        "        keras.layers.Dense(1, activation=\"sigmoid\"),\n",
        "    ]\n",
        ")\n",
        "model.summary()"
      ],
      "metadata": {
        "colab": {
          "base_uri": "https://localhost:8080/"
        },
        "id": "jm-vkjsYlrck",
        "outputId": "0de75105-1ae8-48c4-aba7-5b11314ea063"
      },
      "execution_count": null,
      "outputs": [
        {
          "output_type": "stream",
          "name": "stdout",
          "text": [
            "Model: \"sequential\"\n",
            "_________________________________________________________________\n",
            " Layer (type)                Output Shape              Param #   \n",
            "=================================================================\n",
            " dense (Dense)               (None, 256)               8192      \n",
            "                                                                 \n",
            " dense_1 (Dense)             (None, 256)               65792     \n",
            "                                                                 \n",
            " dense_2 (Dense)             (None, 256)               65792     \n",
            "                                                                 \n",
            " dense_3 (Dense)             (None, 1)                 257       \n",
            "                                                                 \n",
            "=================================================================\n",
            "Total params: 140,033\n",
            "Trainable params: 140,033\n",
            "Non-trainable params: 0\n",
            "_________________________________________________________________\n"
          ]
        }
      ]
    },
    {
      "cell_type": "markdown",
      "source": [
        "### Explore `model.compile` function in `tf.keras`\n",
        "```python\n",
        "    compile(\n",
        "        optimizer='rmsprop',\n",
        "        loss=None,\n",
        "        metrics=None,\n",
        "        loss_weights=None,\n",
        "        weighted_metrics=None,\n",
        "        run_eagerly=None,\n",
        "        steps_per_execution=None,\n",
        "        jit_compile=None,\n",
        "        **kwargs\n",
        "    )\n",
        "```\n",
        "- Key args: `optimizer`, `loss`, `metrics`\n",
        "- Ref:[\n",
        "A Comprehensive Guide on Deep Learning Optimizers\n",
        "](https://www.analyticsvidhya.com/blog/2021/10/a-comprehensive-guide-on-deep-learning-optimizers/)\n",
        "- IMPORTANT! Pair your loss function and the outcome of your network (activation function in the last layer)"
      ],
      "metadata": {
        "id": "fu2UZDPAKEjI"
      }
    },
    {
      "cell_type": "code",
      "source": [
        "metrics = [\n",
        "    keras.metrics.BinaryAccuracy(name='acc'),\n",
        "]\n",
        "\n",
        "model.compile(\n",
        "    optimizer=keras.optimizers.SGD(1e-4), \n",
        "    loss=\"binary_crossentropy\", \n",
        "    metrics=metrics\n",
        ")"
      ],
      "metadata": {
        "id": "_mGrvT8oKQiR"
      },
      "execution_count": null,
      "outputs": []
    },
    {
      "cell_type": "markdown",
      "source": [
        "### Explore `model.fit` function in `keras`\n",
        "```python\n",
        "    fit(\n",
        "        x=None,\n",
        "        y=None,\n",
        "        batch_size=None,\n",
        "        epochs=1,\n",
        "        verbose='auto',\n",
        "        callbacks=None,\n",
        "        validation_split=0.0,\n",
        "        validation_data=None,\n",
        "        shuffle=True,\n",
        "        class_weight=None,\n",
        "        sample_weight=None,\n",
        "        initial_epoch=0,\n",
        "        steps_per_epoch=None,\n",
        "        validation_steps=None,\n",
        "        validation_batch_size=None,\n",
        "        validation_freq=1,\n",
        "        max_queue_size=10,\n",
        "        workers=1,\n",
        "        use_multiprocessing=False\n",
        "    )\n",
        "```\n",
        "Check [**Args**](https://www.tensorflow.org/api_docs/python/tf/keras/Model): \n",
        "\n",
        "- key args: `x`, `y`, `epochs`, `batch_size`, `verbose`, `callbacks`, `validation_split`, `validation_data`\n",
        "\n"
      ],
      "metadata": {
        "id": "xZl-3K9JmEeP"
      }
    },
    {
      "cell_type": "code",
      "source": [
        "model.fit(\n",
        "    train_features,\n",
        "    train_targets,\n",
        "    batch_size=2048,\n",
        "    epochs=5,\n",
        "    verbose=2,\n",
        ")"
      ],
      "metadata": {
        "colab": {
          "base_uri": "https://localhost:8080/"
        },
        "id": "lL47TFZgIvhU",
        "outputId": "882f993e-6dad-4d39-d4f7-87d85a00ad92"
      },
      "execution_count": null,
      "outputs": [
        {
          "output_type": "stream",
          "name": "stdout",
          "text": [
            "Epoch 1/5\n",
            "112/112 - 5s - loss: 0.9292 - acc: 0.0019 - 5s/epoch - 45ms/step\n",
            "Epoch 2/5\n",
            "112/112 - 4s - loss: 0.8844 - acc: 0.0030 - 4s/epoch - 37ms/step\n",
            "Epoch 3/5\n",
            "112/112 - 4s - loss: 0.8429 - acc: 0.0102 - 4s/epoch - 37ms/step\n",
            "Epoch 4/5\n",
            "112/112 - 4s - loss: 0.8046 - acc: 0.0428 - 4s/epoch - 37ms/step\n",
            "Epoch 5/5\n",
            "112/112 - 4s - loss: 0.7690 - acc: 0.1367 - 4s/epoch - 37ms/step\n"
          ]
        },
        {
          "output_type": "execute_result",
          "data": {
            "text/plain": [
              "<keras.callbacks.History at 0x7f9823524110>"
            ]
          },
          "metadata": {},
          "execution_count": 16
        }
      ]
    },
    {
      "cell_type": "markdown",
      "source": [
        "### Early-stopping in neural networks\n",
        "\n",
        "- Define `callback` with `EarlyStopping` in `model.fit`\n",
        "- Use `validation_data` or `validation_split` in `model.fit`\n",
        "\n",
        "    tf.keras.callbacks.EarlyStopping(\n",
        "        monitor=\"val_loss\",\n",
        "        min_delta=0,\n",
        "        patience=0,\n",
        "        verbose=0,\n",
        "        mode=\"auto\",\n",
        "        baseline=None,\n",
        "        restore_best_weights=False)\n"
      ],
      "metadata": {
        "id": "GNfCTCofMBEZ"
      }
    },
    {
      "cell_type": "code",
      "source": [
        "metrics = [\n",
        "    keras.metrics.BinaryAccuracy(name='acc'),\n",
        "    # keras.metrics.AUC(name='auc')\n",
        "]\n",
        "\n",
        "model.compile(\n",
        "    optimizer=keras.optimizers.SGD(1e-3), \n",
        "    loss=\"binary_crossentropy\", \n",
        "    metrics=metrics\n",
        ")\n",
        "\n",
        "callbacks = [keras.callbacks.EarlyStopping( \n",
        "    monitor='val_acc', min_delta=0, patience=5, verbose=1, \n",
        "    mode='auto', baseline=None, restore_best_weights=True)]\n",
        "\n",
        "model.fit(\n",
        "    train_features,\n",
        "    train_targets,\n",
        "    batch_size=2048,\n",
        "    epochs=30,\n",
        "    verbose=2,\n",
        "    callbacks=callbacks,\n",
        "    validation_split = .2,\n",
        ")"
      ],
      "metadata": {
        "colab": {
          "base_uri": "https://localhost:8080/"
        },
        "id": "ByhvRVvpl6l7",
        "outputId": "0b8399b2-74b7-40ca-d915-59590b45cc8c"
      },
      "execution_count": null,
      "outputs": [
        {
          "output_type": "stream",
          "name": "stdout",
          "text": [
            "Epoch 1/30\n",
            "90/90 - 4s - loss: 0.2179 - acc: 0.9980 - val_loss: 0.1783 - val_acc: 0.9989 - 4s/epoch - 45ms/step\n",
            "Epoch 2/30\n",
            "90/90 - 3s - loss: 0.1891 - acc: 0.9980 - val_loss: 0.1537 - val_acc: 0.9989 - 3s/epoch - 39ms/step\n",
            "Epoch 3/30\n",
            "90/90 - 3s - loss: 0.1662 - acc: 0.9980 - val_loss: 0.1341 - val_acc: 0.9989 - 3s/epoch - 38ms/step\n",
            "Epoch 4/30\n",
            "90/90 - 3s - loss: 0.1479 - acc: 0.9980 - val_loss: 0.1184 - val_acc: 0.9989 - 3s/epoch - 39ms/step\n",
            "Epoch 5/30\n",
            "90/90 - 3s - loss: 0.1330 - acc: 0.9980 - val_loss: 0.1056 - val_acc: 0.9989 - 3s/epoch - 39ms/step\n",
            "Epoch 6/30\n",
            "Restoring model weights from the end of the best epoch: 1.\n",
            "90/90 - 3s - loss: 0.1209 - acc: 0.9980 - val_loss: 0.0952 - val_acc: 0.9989 - 3s/epoch - 39ms/step\n",
            "Epoch 6: early stopping\n"
          ]
        },
        {
          "output_type": "execute_result",
          "data": {
            "text/plain": [
              "<keras.callbacks.History at 0x7f203e97cf50>"
            ]
          },
          "metadata": {},
          "execution_count": 40
        }
      ]
    },
    {
      "cell_type": "code",
      "source": [
        "## make prediction\n",
        "pred_prob = model.predict(test_features)\n",
        "pred_label = 1*(pred_prob > .5)\n",
        "\n",
        "print(pred_label)\n",
        "\n",
        "model.evaluate(test_features, test_targets)"
      ],
      "metadata": {
        "colab": {
          "base_uri": "https://localhost:8080/"
        },
        "id": "Q-kBmvggOutQ",
        "outputId": "15b166b6-bdcb-46ee-f3ec-cf8af1bc8f8e"
      },
      "execution_count": null,
      "outputs": [
        {
          "output_type": "stream",
          "name": "stdout",
          "text": [
            "[[0]\n",
            " [0]\n",
            " [0]\n",
            " ...\n",
            " [0]\n",
            " [0]\n",
            " [0]]\n",
            "1781/1781 [==============================] - 3s 2ms/step - loss: 0.1744 - acc: 0.9987\n"
          ]
        },
        {
          "output_type": "execute_result",
          "data": {
            "text/plain": [
              "[0.17444510757923126, 0.9986833333969116]"
            ]
          },
          "metadata": {},
          "execution_count": 41
        }
      ]
    },
    {
      "cell_type": "markdown",
      "source": [
        "### InClass Practice\n",
        "\n",
        "- Define a network with two Dense layers with 128 neurons for each layer; \n",
        "- Report `AUC` score for each epoch\n",
        "- Earlystopping with `patient=10` based on `AUC` score on a validation set."
      ],
      "metadata": {
        "id": "L0zAT179PMqi"
      }
    },
    {
      "cell_type": "markdown",
      "source": [
        "## Not a sequential model?\n",
        "\n",
        "- By subclassing the Model class: in that case, you should define your layers in __init__() and you should implement the model's forward pass in call().\n",
        "\n",
        "```python\n",
        "import tensorflow as tf\n",
        "\n",
        "class MyModel(tf.keras.Model):\n",
        "\n",
        "  def __init__(self):\n",
        "    super().__init__()\n",
        "    self.dense1 = tf.keras.layers.Dense(4, activation=tf.nn.relu)\n",
        "    self.dense2 = tf.keras.layers.Dense(5, activation=tf.nn.softmax)\n",
        "\n",
        "  def call(self, inputs):\n",
        "    x = self.dense1(inputs)\n",
        "    return self.dense2(x)\n",
        "\n",
        "  model = MyModel()\n",
        "```"
      ],
      "metadata": {
        "id": "VGqQQdi7T0zR"
      }
    },
    {
      "cell_type": "markdown",
      "source": [
        "- The point is to define `layer` and **PATH** separately"
      ],
      "metadata": {
        "id": "h5NhmESfVQXX"
      }
    },
    {
      "cell_type": "code",
      "source": [
        "## define a semi-parametric model\n",
        "import tensorflow as tf\n",
        "\n",
        "class SemiM(tf.keras.Model):\n",
        "\n",
        "  def __init__(self):\n",
        "    super().__init__()\n",
        "    self.dense1 = keras.layers.Dense(256, activation='relu', input_shape=(train_features.shape[-1],))\n",
        "    self.dense2 = keras.layers.Dense(256, activation='relu')\n",
        "    self.dense3 = keras.layers.Dense(1, activation='sigmoid')\n",
        "    self.concatenate = keras.layers.Concatenate()\n",
        "\n",
        "  def call(self, inputs):\n",
        "    nl_p = self.dense1(inputs)\n",
        "    nl_p = self.dense2(nl_p)\n",
        "    p = self.concatenate([nl_p, inputs])\n",
        "    out = self.dense3(p)\n",
        "    return out"
      ],
      "metadata": {
        "id": "SFufOdf6T0Cq"
      },
      "execution_count": 20,
      "outputs": []
    },
    {
      "cell_type": "code",
      "source": [
        "SemiM_ = SemiM()"
      ],
      "metadata": {
        "id": "C6pQK9I_WL4J"
      },
      "execution_count": 22,
      "outputs": []
    },
    {
      "cell_type": "code",
      "source": [
        "metrics = [\n",
        "    keras.metrics.BinaryAccuracy(name='acc'),\n",
        "]\n",
        "\n",
        "SemiM_.compile(\n",
        "    optimizer=keras.optimizers.SGD(1e-4), \n",
        "    loss=\"binary_crossentropy\", \n",
        "    metrics=metrics\n",
        ")"
      ],
      "metadata": {
        "id": "hFCd0k7vWcxJ"
      },
      "execution_count": 23,
      "outputs": []
    },
    {
      "cell_type": "code",
      "source": [
        "SemiM_.fit(\n",
        "    train_features,\n",
        "    train_targets,\n",
        "    batch_size=2048,\n",
        "    epochs=20,\n",
        "    verbose=2,\n",
        ")"
      ],
      "metadata": {
        "colab": {
          "base_uri": "https://localhost:8080/"
        },
        "id": "MKUm6kffWllt",
        "outputId": "016c11ea-0abb-4c37-c388-78af2aed2957"
      },
      "execution_count": 25,
      "outputs": [
        {
          "output_type": "stream",
          "name": "stdout",
          "text": [
            "Epoch 1/20\n",
            "112/112 - 3s - loss: 0.6214 - acc: 0.6709 - 3s/epoch - 25ms/step\n",
            "Epoch 2/20\n",
            "112/112 - 3s - loss: 0.5975 - acc: 0.7141 - 3s/epoch - 25ms/step\n",
            "Epoch 3/20\n",
            "112/112 - 3s - loss: 0.5752 - acc: 0.7539 - 3s/epoch - 24ms/step\n",
            "Epoch 4/20\n",
            "112/112 - 3s - loss: 0.5542 - acc: 0.7896 - 3s/epoch - 24ms/step\n",
            "Epoch 5/20\n",
            "112/112 - 3s - loss: 0.5344 - acc: 0.8224 - 3s/epoch - 24ms/step\n",
            "Epoch 6/20\n",
            "112/112 - 3s - loss: 0.5159 - acc: 0.8510 - 3s/epoch - 23ms/step\n",
            "Epoch 7/20\n",
            "112/112 - 3s - loss: 0.4984 - acc: 0.8769 - 3s/epoch - 23ms/step\n",
            "Epoch 8/20\n",
            "112/112 - 3s - loss: 0.4819 - acc: 0.8998 - 3s/epoch - 23ms/step\n",
            "Epoch 9/20\n",
            "112/112 - 4s - loss: 0.4663 - acc: 0.9195 - 4s/epoch - 34ms/step\n",
            "Epoch 10/20\n",
            "112/112 - 3s - loss: 0.4515 - acc: 0.9364 - 3s/epoch - 24ms/step\n",
            "Epoch 11/20\n",
            "112/112 - 3s - loss: 0.4376 - acc: 0.9507 - 3s/epoch - 24ms/step\n",
            "Epoch 12/20\n",
            "112/112 - 3s - loss: 0.4243 - acc: 0.9621 - 3s/epoch - 24ms/step\n",
            "Epoch 13/20\n",
            "112/112 - 3s - loss: 0.4118 - acc: 0.9719 - 3s/epoch - 23ms/step\n",
            "Epoch 14/20\n",
            "112/112 - 3s - loss: 0.3999 - acc: 0.9795 - 3s/epoch - 23ms/step\n",
            "Epoch 15/20\n",
            "112/112 - 3s - loss: 0.3885 - acc: 0.9852 - 3s/epoch - 23ms/step\n",
            "Epoch 16/20\n",
            "112/112 - 3s - loss: 0.3777 - acc: 0.9894 - 3s/epoch - 24ms/step\n",
            "Epoch 17/20\n",
            "112/112 - 3s - loss: 0.3675 - acc: 0.9924 - 3s/epoch - 24ms/step\n",
            "Epoch 18/20\n",
            "112/112 - 3s - loss: 0.3577 - acc: 0.9947 - 3s/epoch - 23ms/step\n",
            "Epoch 19/20\n",
            "112/112 - 3s - loss: 0.3483 - acc: 0.9962 - 3s/epoch - 23ms/step\n",
            "Epoch 20/20\n",
            "112/112 - 3s - loss: 0.3394 - acc: 0.9969 - 3s/epoch - 23ms/step\n"
          ]
        },
        {
          "output_type": "execute_result",
          "data": {
            "text/plain": [
              "<keras.callbacks.History at 0x7f98232452d0>"
            ]
          },
          "metadata": {},
          "execution_count": 25
        }
      ]
    },
    {
      "cell_type": "code",
      "source": [
        "## make prediction\n",
        "pred_prob = model.predict(test_features)\n",
        "pred_label = np.round(pred_prob)\n",
        "\n",
        "print(pred_label)\n",
        "\n",
        "model.evaluate(test_features, test_targets)"
      ],
      "metadata": {
        "colab": {
          "base_uri": "https://localhost:8080/"
        },
        "id": "Ld9Bkqf3W8EJ",
        "outputId": "c5499b3b-63a3-4c54-b2dc-37fbd39142b5"
      },
      "execution_count": 28,
      "outputs": [
        {
          "output_type": "stream",
          "name": "stdout",
          "text": [
            "1781/1781 [==============================] - 4s 2ms/step\n",
            "[[1.]\n",
            " [1.]\n",
            " [0.]\n",
            " ...\n",
            " [1.]\n",
            " [1.]\n",
            " [1.]]\n",
            "1781/1781 [==============================] - 4s 2ms/step - loss: 0.7766 - acc: 0.0694\n"
          ]
        },
        {
          "output_type": "execute_result",
          "data": {
            "text/plain": [
              "[0.7765597701072693, 0.06941591948270798]"
            ]
          },
          "metadata": {},
          "execution_count": 28
        }
      ]
    },
    {
      "cell_type": "markdown",
      "source": [
        "## To-do list\n",
        "\n",
        "- **STAT**\n",
        "  - [ ] Math formulation of Neural networks\n",
        "  - [ ] Idea of Back-propogation\n",
        "  - [ ] Terms in (Batch) SGD: epochs, batch size, ...\n",
        "\n",
        "- **Code**\n",
        "  - [ ] From math -> Diagram -> TF code\n",
        "  - [ ] Custom metrics, model structure, losses, and other components in TF"
      ],
      "metadata": {
        "id": "ed-fnVl-XVQQ"
      }
    }
  ]
}