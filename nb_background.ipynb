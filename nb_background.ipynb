{
  "nbformat": 4,
  "nbformat_minor": 0,
  "metadata": {
    "colab": {
      "provenance": [],
      "collapsed_sections": [],
      "toc_visible": true
    },
    "kernelspec": {
      "name": "python3",
      "display_name": "Python 3"
    },
    "language_info": {
      "name": "python"
    }
  },
  "cells": [
    {
      "cell_type": "markdown",
      "source": [
        "# Overview of Recommender Systems"
      ],
      "metadata": {
        "id": "-B11Ph0JM062"
      }
    },
    {
      "cell_type": "markdown",
      "source": [
        "## Examples (RS) in Kaggle\n",
        "\n",
        "- [Elo Merchant Category Recommendation](https://www.kaggle.com/c/elo-merchant-category-recommendation/data?select=Data+Dictionary.xlsx): `merchant_id` and `card_id`.\n",
        "\n",
        "- [WSDM - KKBox's Music Recommendation Challenge](https://www.kaggle.com/c/kkbox-music-recommendation-challenge/data): `user` and `music`.\n",
        "\n",
        "- [Event Recommendation Engine Challenge](https://www.kaggle.com/c/event-recommendation-engine-challenge/overview/evaluation): `user` and `event`."
      ],
      "metadata": {
        "id": "-GlrTe7HHNc0"
      }
    },
    {
      "cell_type": "markdown",
      "source": [
        "\n",
        "## Load Netflix dataset\n",
        "\n",
        "- Dowload [Netflix Prize Data](https://www.kaggle.com/datasets/netflix-inc/netflix-prize-data). (For illustration, we only take the first subset.)\n",
        "\n",
        "- Dataset is pre-processed by [`pre-process.py`](https://github.com/statmlben/CUHK-STAT3009/tree/main/dataset)\n",
        "\n",
        "- Load data into Python\n",
        "\n",
        "- Re-orginize the data structure as a standard form\n",
        "\n",
        "- For testing set, we remove the real ratings.\n",
        "\n"
      ],
      "metadata": {
        "id": "3NbR3mAvL330"
      }
    },
    {
      "cell_type": "code",
      "execution_count": null,
      "metadata": {
        "id": "laI2Ki_bC_DN"
      },
      "outputs": [],
      "source": [
        "import numpy as np\n",
        "import pandas as pd\n",
        "\n",
        "## Upload Netflix dataset in CUHK-STAT3009 Github repo\n",
        "\n",
        "train_url = \"https://raw.githubusercontent.com/statmlben/CUHK-STAT3009/main/dataset/train.csv\"\n",
        "test_url = \"https://raw.githubusercontent.com/statmlben/CUHK-STAT3009/main/dataset/test.csv\"\n",
        "\n",
        "dtrain = pd.read_csv(train_url)\n",
        "dtest = pd.read_csv(test_url)"
      ]
    },
    {
      "cell_type": "code",
      "source": [
        "dtrain.sample(5).T"
      ],
      "metadata": {
        "colab": {
          "base_uri": "https://localhost:8080/",
          "height": 175
        },
        "id": "tEQsDN-qy3FB",
        "outputId": "562546f8-4c48-403c-f720-ecd3bf9a3b65"
      },
      "execution_count": null,
      "outputs": [
        {
          "output_type": "execute_result",
          "data": {
            "text/plain": [
              "               3569        56          4720        1286        12835\n",
              "movie_id        1872        3543        2753        2216        2946\n",
              "user_id          766         104        1643         663        1558\n",
              "rating             4           5           3           5           3\n",
              "date      2005-03-14  2005-12-30  2003-06-03  2005-09-16  2004-01-29"
            ],
            "text/html": [
              "\n",
              "  <div id=\"df-1bdd57b6-56b8-4766-93fb-da54378cbd29\">\n",
              "    <div class=\"colab-df-container\">\n",
              "      <div>\n",
              "<style scoped>\n",
              "    .dataframe tbody tr th:only-of-type {\n",
              "        vertical-align: middle;\n",
              "    }\n",
              "\n",
              "    .dataframe tbody tr th {\n",
              "        vertical-align: top;\n",
              "    }\n",
              "\n",
              "    .dataframe thead th {\n",
              "        text-align: right;\n",
              "    }\n",
              "</style>\n",
              "<table border=\"1\" class=\"dataframe\">\n",
              "  <thead>\n",
              "    <tr style=\"text-align: right;\">\n",
              "      <th></th>\n",
              "      <th>3569</th>\n",
              "      <th>56</th>\n",
              "      <th>4720</th>\n",
              "      <th>1286</th>\n",
              "      <th>12835</th>\n",
              "    </tr>\n",
              "  </thead>\n",
              "  <tbody>\n",
              "    <tr>\n",
              "      <th>movie_id</th>\n",
              "      <td>1872</td>\n",
              "      <td>3543</td>\n",
              "      <td>2753</td>\n",
              "      <td>2216</td>\n",
              "      <td>2946</td>\n",
              "    </tr>\n",
              "    <tr>\n",
              "      <th>user_id</th>\n",
              "      <td>766</td>\n",
              "      <td>104</td>\n",
              "      <td>1643</td>\n",
              "      <td>663</td>\n",
              "      <td>1558</td>\n",
              "    </tr>\n",
              "    <tr>\n",
              "      <th>rating</th>\n",
              "      <td>4</td>\n",
              "      <td>5</td>\n",
              "      <td>3</td>\n",
              "      <td>5</td>\n",
              "      <td>3</td>\n",
              "    </tr>\n",
              "    <tr>\n",
              "      <th>date</th>\n",
              "      <td>2005-03-14</td>\n",
              "      <td>2005-12-30</td>\n",
              "      <td>2003-06-03</td>\n",
              "      <td>2005-09-16</td>\n",
              "      <td>2004-01-29</td>\n",
              "    </tr>\n",
              "  </tbody>\n",
              "</table>\n",
              "</div>\n",
              "      <button class=\"colab-df-convert\" onclick=\"convertToInteractive('df-1bdd57b6-56b8-4766-93fb-da54378cbd29')\"\n",
              "              title=\"Convert this dataframe to an interactive table.\"\n",
              "              style=\"display:none;\">\n",
              "        \n",
              "  <svg xmlns=\"http://www.w3.org/2000/svg\" height=\"24px\"viewBox=\"0 0 24 24\"\n",
              "       width=\"24px\">\n",
              "    <path d=\"M0 0h24v24H0V0z\" fill=\"none\"/>\n",
              "    <path d=\"M18.56 5.44l.94 2.06.94-2.06 2.06-.94-2.06-.94-.94-2.06-.94 2.06-2.06.94zm-11 1L8.5 8.5l.94-2.06 2.06-.94-2.06-.94L8.5 2.5l-.94 2.06-2.06.94zm10 10l.94 2.06.94-2.06 2.06-.94-2.06-.94-.94-2.06-.94 2.06-2.06.94z\"/><path d=\"M17.41 7.96l-1.37-1.37c-.4-.4-.92-.59-1.43-.59-.52 0-1.04.2-1.43.59L10.3 9.45l-7.72 7.72c-.78.78-.78 2.05 0 2.83L4 21.41c.39.39.9.59 1.41.59.51 0 1.02-.2 1.41-.59l7.78-7.78 2.81-2.81c.8-.78.8-2.07 0-2.86zM5.41 20L4 18.59l7.72-7.72 1.47 1.35L5.41 20z\"/>\n",
              "  </svg>\n",
              "      </button>\n",
              "      \n",
              "  <style>\n",
              "    .colab-df-container {\n",
              "      display:flex;\n",
              "      flex-wrap:wrap;\n",
              "      gap: 12px;\n",
              "    }\n",
              "\n",
              "    .colab-df-convert {\n",
              "      background-color: #E8F0FE;\n",
              "      border: none;\n",
              "      border-radius: 50%;\n",
              "      cursor: pointer;\n",
              "      display: none;\n",
              "      fill: #1967D2;\n",
              "      height: 32px;\n",
              "      padding: 0 0 0 0;\n",
              "      width: 32px;\n",
              "    }\n",
              "\n",
              "    .colab-df-convert:hover {\n",
              "      background-color: #E2EBFA;\n",
              "      box-shadow: 0px 1px 2px rgba(60, 64, 67, 0.3), 0px 1px 3px 1px rgba(60, 64, 67, 0.15);\n",
              "      fill: #174EA6;\n",
              "    }\n",
              "\n",
              "    [theme=dark] .colab-df-convert {\n",
              "      background-color: #3B4455;\n",
              "      fill: #D2E3FC;\n",
              "    }\n",
              "\n",
              "    [theme=dark] .colab-df-convert:hover {\n",
              "      background-color: #434B5C;\n",
              "      box-shadow: 0px 1px 3px 1px rgba(0, 0, 0, 0.15);\n",
              "      filter: drop-shadow(0px 1px 2px rgba(0, 0, 0, 0.3));\n",
              "      fill: #FFFFFF;\n",
              "    }\n",
              "  </style>\n",
              "\n",
              "      <script>\n",
              "        const buttonEl =\n",
              "          document.querySelector('#df-1bdd57b6-56b8-4766-93fb-da54378cbd29 button.colab-df-convert');\n",
              "        buttonEl.style.display =\n",
              "          google.colab.kernel.accessAllowed ? 'block' : 'none';\n",
              "\n",
              "        async function convertToInteractive(key) {\n",
              "          const element = document.querySelector('#df-1bdd57b6-56b8-4766-93fb-da54378cbd29');\n",
              "          const dataTable =\n",
              "            await google.colab.kernel.invokeFunction('convertToInteractive',\n",
              "                                                     [key], {});\n",
              "          if (!dataTable) return;\n",
              "\n",
              "          const docLinkHtml = 'Like what you see? Visit the ' +\n",
              "            '<a target=\"_blank\" href=https://colab.research.google.com/notebooks/data_table.ipynb>data table notebook</a>'\n",
              "            + ' to learn more about interactive tables.';\n",
              "          element.innerHTML = '';\n",
              "          dataTable['output_type'] = 'display_data';\n",
              "          await google.colab.output.renderOutput(dataTable, element);\n",
              "          const docLink = document.createElement('div');\n",
              "          docLink.innerHTML = docLinkHtml;\n",
              "          element.appendChild(docLink);\n",
              "        }\n",
              "      </script>\n",
              "    </div>\n",
              "  </div>\n",
              "  "
            ]
          },
          "metadata": {},
          "execution_count": 53
        }
      ]
    },
    {
      "cell_type": "code",
      "source": [
        "dtest.sample(5).T"
      ],
      "metadata": {
        "colab": {
          "base_uri": "https://localhost:8080/",
          "height": 175
        },
        "id": "3KC4b07nzT3s",
        "outputId": "cb61da94-5cea-41bb-d88f-206ded25f1f0"
      },
      "execution_count": null,
      "outputs": [
        {
          "output_type": "execute_result",
          "data": {
            "text/plain": [
              "               13157       30022       40949       18877       8341 \n",
              "movie_id        2151         458         602        1860         730\n",
              "user_id          671        1867        1009         663         641\n",
              "rating             4           5           5           3           5\n",
              "date      2005-08-17  2004-01-28  2005-11-02  2005-01-27  2004-11-27"
            ],
            "text/html": [
              "\n",
              "  <div id=\"df-2f6d07d0-e391-4454-b1df-ae9e3bef8216\">\n",
              "    <div class=\"colab-df-container\">\n",
              "      <div>\n",
              "<style scoped>\n",
              "    .dataframe tbody tr th:only-of-type {\n",
              "        vertical-align: middle;\n",
              "    }\n",
              "\n",
              "    .dataframe tbody tr th {\n",
              "        vertical-align: top;\n",
              "    }\n",
              "\n",
              "    .dataframe thead th {\n",
              "        text-align: right;\n",
              "    }\n",
              "</style>\n",
              "<table border=\"1\" class=\"dataframe\">\n",
              "  <thead>\n",
              "    <tr style=\"text-align: right;\">\n",
              "      <th></th>\n",
              "      <th>13157</th>\n",
              "      <th>30022</th>\n",
              "      <th>40949</th>\n",
              "      <th>18877</th>\n",
              "      <th>8341</th>\n",
              "    </tr>\n",
              "  </thead>\n",
              "  <tbody>\n",
              "    <tr>\n",
              "      <th>movie_id</th>\n",
              "      <td>2151</td>\n",
              "      <td>458</td>\n",
              "      <td>602</td>\n",
              "      <td>1860</td>\n",
              "      <td>730</td>\n",
              "    </tr>\n",
              "    <tr>\n",
              "      <th>user_id</th>\n",
              "      <td>671</td>\n",
              "      <td>1867</td>\n",
              "      <td>1009</td>\n",
              "      <td>663</td>\n",
              "      <td>641</td>\n",
              "    </tr>\n",
              "    <tr>\n",
              "      <th>rating</th>\n",
              "      <td>4</td>\n",
              "      <td>5</td>\n",
              "      <td>5</td>\n",
              "      <td>3</td>\n",
              "      <td>5</td>\n",
              "    </tr>\n",
              "    <tr>\n",
              "      <th>date</th>\n",
              "      <td>2005-08-17</td>\n",
              "      <td>2004-01-28</td>\n",
              "      <td>2005-11-02</td>\n",
              "      <td>2005-01-27</td>\n",
              "      <td>2004-11-27</td>\n",
              "    </tr>\n",
              "  </tbody>\n",
              "</table>\n",
              "</div>\n",
              "      <button class=\"colab-df-convert\" onclick=\"convertToInteractive('df-2f6d07d0-e391-4454-b1df-ae9e3bef8216')\"\n",
              "              title=\"Convert this dataframe to an interactive table.\"\n",
              "              style=\"display:none;\">\n",
              "        \n",
              "  <svg xmlns=\"http://www.w3.org/2000/svg\" height=\"24px\"viewBox=\"0 0 24 24\"\n",
              "       width=\"24px\">\n",
              "    <path d=\"M0 0h24v24H0V0z\" fill=\"none\"/>\n",
              "    <path d=\"M18.56 5.44l.94 2.06.94-2.06 2.06-.94-2.06-.94-.94-2.06-.94 2.06-2.06.94zm-11 1L8.5 8.5l.94-2.06 2.06-.94-2.06-.94L8.5 2.5l-.94 2.06-2.06.94zm10 10l.94 2.06.94-2.06 2.06-.94-2.06-.94-.94-2.06-.94 2.06-2.06.94z\"/><path d=\"M17.41 7.96l-1.37-1.37c-.4-.4-.92-.59-1.43-.59-.52 0-1.04.2-1.43.59L10.3 9.45l-7.72 7.72c-.78.78-.78 2.05 0 2.83L4 21.41c.39.39.9.59 1.41.59.51 0 1.02-.2 1.41-.59l7.78-7.78 2.81-2.81c.8-.78.8-2.07 0-2.86zM5.41 20L4 18.59l7.72-7.72 1.47 1.35L5.41 20z\"/>\n",
              "  </svg>\n",
              "      </button>\n",
              "      \n",
              "  <style>\n",
              "    .colab-df-container {\n",
              "      display:flex;\n",
              "      flex-wrap:wrap;\n",
              "      gap: 12px;\n",
              "    }\n",
              "\n",
              "    .colab-df-convert {\n",
              "      background-color: #E8F0FE;\n",
              "      border: none;\n",
              "      border-radius: 50%;\n",
              "      cursor: pointer;\n",
              "      display: none;\n",
              "      fill: #1967D2;\n",
              "      height: 32px;\n",
              "      padding: 0 0 0 0;\n",
              "      width: 32px;\n",
              "    }\n",
              "\n",
              "    .colab-df-convert:hover {\n",
              "      background-color: #E2EBFA;\n",
              "      box-shadow: 0px 1px 2px rgba(60, 64, 67, 0.3), 0px 1px 3px 1px rgba(60, 64, 67, 0.15);\n",
              "      fill: #174EA6;\n",
              "    }\n",
              "\n",
              "    [theme=dark] .colab-df-convert {\n",
              "      background-color: #3B4455;\n",
              "      fill: #D2E3FC;\n",
              "    }\n",
              "\n",
              "    [theme=dark] .colab-df-convert:hover {\n",
              "      background-color: #434B5C;\n",
              "      box-shadow: 0px 1px 3px 1px rgba(0, 0, 0, 0.15);\n",
              "      filter: drop-shadow(0px 1px 2px rgba(0, 0, 0, 0.3));\n",
              "      fill: #FFFFFF;\n",
              "    }\n",
              "  </style>\n",
              "\n",
              "      <script>\n",
              "        const buttonEl =\n",
              "          document.querySelector('#df-2f6d07d0-e391-4454-b1df-ae9e3bef8216 button.colab-df-convert');\n",
              "        buttonEl.style.display =\n",
              "          google.colab.kernel.accessAllowed ? 'block' : 'none';\n",
              "\n",
              "        async function convertToInteractive(key) {\n",
              "          const element = document.querySelector('#df-2f6d07d0-e391-4454-b1df-ae9e3bef8216');\n",
              "          const dataTable =\n",
              "            await google.colab.kernel.invokeFunction('convertToInteractive',\n",
              "                                                     [key], {});\n",
              "          if (!dataTable) return;\n",
              "\n",
              "          const docLinkHtml = 'Like what you see? Visit the ' +\n",
              "            '<a target=\"_blank\" href=https://colab.research.google.com/notebooks/data_table.ipynb>data table notebook</a>'\n",
              "            + ' to learn more about interactive tables.';\n",
              "          element.innerHTML = '';\n",
              "          dataTable['output_type'] = 'display_data';\n",
              "          await google.colab.output.renderOutput(dataTable, element);\n",
              "          const docLink = document.createElement('div');\n",
              "          docLink.innerHTML = docLinkHtml;\n",
              "          element.appendChild(docLink);\n",
              "        }\n",
              "      </script>\n",
              "    </div>\n",
              "  </div>\n",
              "  "
            ]
          },
          "metadata": {},
          "execution_count": 14
        }
      ]
    },
    {
      "cell_type": "markdown",
      "source": [
        "### Pre-process the data as a `np.array`"
      ],
      "metadata": {
        "id": "40xSnlBPLd20"
      }
    },
    {
      "cell_type": "code",
      "source": [
        "## save (user_id, item_id) and rating separately\n",
        "train_rating = dtrain['rating'].values\n",
        "train_rating = np.array(train_rating, dtype=float)\n",
        "train_pair = dtrain[['user_id', 'movie_id']].values\n",
        "\n",
        "test_rating = dtest['rating'].values\n",
        "test_rating = np.array(test_rating, dtype=float)\n",
        "test_pair = dtest[['user_id', 'movie_id']].values\n",
        "\n",
        "## we want to predict `test_rating` based on `train_pair`, `train_rating`, `test_pair`"
      ],
      "metadata": {
        "id": "-4vsUi4SLao_"
      },
      "execution_count": null,
      "outputs": []
    },
    {
      "cell_type": "code",
      "source": [
        "test_pair[:,1]"
      ],
      "metadata": {
        "colab": {
          "base_uri": "https://localhost:8080/"
        },
        "id": "ieLxxugFzg2q",
        "outputId": "af848302-3a60-4260-d5c0-7a9465f65d1a"
      },
      "execution_count": null,
      "outputs": [
        {
          "output_type": "execute_result",
          "data": {
            "text/plain": [
              "array([2956,  791, 1547, ...,  653, 2195, 3081])"
            ]
          },
          "metadata": {},
          "execution_count": 55
        }
      ]
    },
    {
      "cell_type": "code",
      "source": [
        "## find the number of users/items\n",
        "n_user = max( max(train_pair[:,0]), max(test_pair[:,0]) ) + 1\n",
        "print('total number of users: %d' %n_user)\n",
        "\n",
        "n_item = max( max(train_pair[:,1]), max(test_pair[:,1]) ) + 1\n",
        "print('total number of items: %d' %n_item)"
      ],
      "metadata": {
        "id": "2phtzI5rKbtl",
        "colab": {
          "base_uri": "https://localhost:8080/"
        },
        "outputId": "7580d115-0dbf-4372-c7c9-2d284e5d4948"
      },
      "execution_count": null,
      "outputs": [
        {
          "output_type": "stream",
          "name": "stdout",
          "text": [
            "total number of users: 2000\n",
            "total number of items: 3568\n"
          ]
        }
      ]
    },
    {
      "cell_type": "markdown",
      "source": [
        "## Evaluation\n",
        "\n",
        "- Define a function to compute `rmse` for the predicted rating\n",
        "\n",
        "- Test your function"
      ],
      "metadata": {
        "id": "u0_NscNaQjOn"
      }
    },
    {
      "cell_type": "code",
      "source": [
        "## define RMSE function\n",
        "def rmse(true_rating, pred_rating):\n",
        "  return np.sqrt(np.mean((true_rating - pred_rating)**2))"
      ],
      "metadata": {
        "id": "MMDuPMuEOZRX"
      },
      "execution_count": null,
      "outputs": []
    },
    {
      "cell_type": "code",
      "source": [
        "## Test `rmse` function\n",
        "\n",
        "pred = np.zeros(len(test_rating))\n",
        "print('rmse for zero rating: %.3f' %rmse(test_rating, pred))\n",
        "print('rmse for true rating: %.3f' %rmse(test_rating, test_rating))"
      ],
      "metadata": {
        "colab": {
          "base_uri": "https://localhost:8080/"
        },
        "id": "nIbtcs1yQ-XX",
        "outputId": "49c44406-e1a3-4155-bc78-6c775eaa9584"
      },
      "execution_count": null,
      "outputs": [
        {
          "output_type": "stream",
          "name": "stdout",
          "text": [
            "rmse for zero rating: 3.787\n",
            "rmse for true rating: 0.000\n"
          ]
        }
      ]
    },
    {
      "cell_type": "markdown",
      "source": [
        "## Implement Baseline methods\n",
        "\n",
        "- Inpout: training set.\n",
        "\n",
        "- Output: return predicted ratings for (user id, item id) user-item pairs in testing set.\n",
        "\n",
        "- Goal: make prediction for testing set"
      ],
      "metadata": {
        "id": "I6Q8azZBMsTr"
      }
    },
    {
      "cell_type": "markdown",
      "source": [
        "### Global mean\n",
        "\n",
        "$$\n",
        "\\bar{r} = \\frac{1}{|\\Omega|} \\sum_{(u,i) \\in \\Omega} r_{ui}, \\quad \\hat{r}_{ui} = \\bar{r}\n",
        "$$"
      ],
      "metadata": {
        "id": "fZcI0KssCZlF"
      }
    },
    {
      "cell_type": "code",
      "source": [
        "## create a potential prediction for `test_rating`\n",
        "pred = np.zeros(len(test_rating))\n",
        "\n",
        "## Compute global mean based on `train_rating`\n",
        "global_pred = pred.copy()\n",
        "global_mean = train_rating.mean()\n",
        "global_pred = global_mean*np.ones(len(pred))\n",
        "\n",
        "print(global_pred[:10])\n",
        "print('rmse for global mean: %.3f' %rmse(test_rating, global_pred))"
      ],
      "metadata": {
        "colab": {
          "base_uri": "https://localhost:8080/"
        },
        "id": "geJGIMtNM9Mv",
        "outputId": "c23d00a6-77a3-40d9-feb4-7203ecf8fb29"
      },
      "execution_count": null,
      "outputs": [
        {
          "output_type": "stream",
          "name": "stdout",
          "text": [
            "[3.62115674 3.62115674 3.62115674 3.62115674 3.62115674 3.62115674\n",
            " 3.62115674 3.62115674 3.62115674 3.62115674]\n",
            "rmse for global mean: 1.085\n"
          ]
        }
      ]
    },
    {
      "cell_type": "markdown",
      "source": [
        "### user average\n",
        "\n",
        "$$\n",
        "\t\t\\bar{r}_{u} = \\frac{1}{|\\mathcal{I}_u|} \\sum_{i \\in \\mathcal{I}_u} r_{ui}, \\text{ for } u=1, \\cdots, n; \\quad \\hat{r}_{ui} = \\bar{r}_u\n",
        "$$\n",
        "\n",
        "- Loop for all users\n",
        "  - Find all records for this user in both training and testing sets.\n",
        "  - Compute the average ratings for this user in the training set.\n",
        "  - Predict the ratings for this users in the testing set."
      ],
      "metadata": {
        "id": "rgPwtxBBNrzz"
      }
    },
    {
      "cell_type": "code",
      "source": [
        "## (InClass Practice) user average\n",
        "UA_pred = np.zeros_like(test_rating, dtype=float)\n",
        "for u in range(n_user):\n",
        "    # find the index for both train and test for user_id = u\n",
        "    ind_test = np.where(test_pair[:,0] == u)[0]\n",
        "    ind_train = np.where(train_pair[:,0] == u)[0]\n",
        "    ## if there is no record; predict as the global mean\n",
        "    if len(ind_test) == 0:\n",
        "        continue\n",
        "    ## (Practice) if the records for the users is too small, then predict as global mean\n",
        "    if len(ind_train) < 3:\n",
        "        UA_pred[ind_test] = global_mean\n",
        "    else:\n",
        "        # predict as user average\n",
        "        UA_pred[ind_test] = train_rating[ind_train].mean()\n",
        "print(UA_pred[:10])\n",
        "\n",
        "print('rmse for user mean: %.3f' %rmse(test_rating, UA_pred))"
      ],
      "metadata": {
        "colab": {
          "base_uri": "https://localhost:8080/"
        },
        "id": "aJC3fcr_NWQP",
        "outputId": "a6489357-89e4-485b-8ba8-3350b274e7d4"
      },
      "execution_count": null,
      "outputs": [
        {
          "output_type": "stream",
          "name": "stdout",
          "text": [
            "[3.73684211 3.35714286 3.66037736 2.84931507 3.70909091 3.27419355\n",
            " 3.16666667 3.57142857 4.1        3.375     ]\n",
            "rmse for user mean: 1.013\n"
          ]
        }
      ]
    },
    {
      "cell_type": "markdown",
      "source": [
        "### item average\n",
        "\n",
        "$$\n",
        "\t\t\\bar{r}_{i} = \\frac{1}{|\\mathcal{U}_i|} \\sum_{u \\in \\mathcal{U}_i} r_{ui}, \\text{ for } i=1, \\cdots, m; \\quad \\hat{r}_{ui} = \\bar{r}_i,\n",
        "$$"
      ],
      "metadata": {
        "id": "lIODUfHlCUsh"
      }
    },
    {
      "cell_type": "code",
      "source": [
        "## (InClass Practice) item average\n",
        "\n",
        "IA_pred = np.zeros_like(test_rating, dtype=float)\n",
        "for i in range(n_item):\n",
        "    # find the index for both train and test for item_id = i\n",
        "    ind_test = np.where(test_pair[:,1] == i)[0]\n",
        "    ind_train = np.where(train_pair[:,1] == i)[0]\n",
        "    if len(ind_test) == 0:\n",
        "        continue\n",
        "    if len(ind_train) < 3:\n",
        "        IA_pred[ind_test] = global_mean\n",
        "    else:\n",
        "        # predict as item average\n",
        "        IA_pred[ind_test] = train_rating[ind_train].mean()\n",
        "\n",
        "print('rmse for item mean: %.3f' %rmse(test_rating, IA_pred))"
      ],
      "metadata": {
        "colab": {
          "base_uri": "https://localhost:8080/"
        },
        "id": "WC_8umwbReuC",
        "outputId": "461ccb9e-d8a5-4085-b8ce-71587984d1e0"
      },
      "execution_count": null,
      "outputs": [
        {
          "output_type": "stream",
          "name": "stdout",
          "text": [
            "rmse for item mean: 1.039\n"
          ]
        }
      ]
    },
    {
      "cell_type": "markdown",
      "source": [
        "## Package Python functions\n",
        "\n",
        "\n",
        "- *Input*: 'train_rating', 'test_pair'\n",
        "\n",
        "- *Return*: Predicted ratings."
      ],
      "metadata": {
        "id": "IADOQ4o8Aoee"
      }
    },
    {
      "cell_type": "code",
      "source": [
        "def glb_mean(train_rating, test_pair):\n",
        "    pred = train_rating.mean() * np.ones(len(test_pair))\n",
        "    return pred"
      ],
      "metadata": {
        "id": "TA4xMKeq_mIt"
      },
      "execution_count": null,
      "outputs": []
    },
    {
      "cell_type": "code",
      "source": [
        "def user_mean(train_pair, train_rating, test_pair):\n",
        "    n_user = max(train_pair[:,0].max(), test_pair[:,0].max())+1\n",
        "    pred = np.zeros(len(test_pair))\n",
        "    glb_mean_value = train_rating.mean()\n",
        "    for u in range(n_user):\n",
        "        # find the index for both train and test for user_id = u\n",
        "        ind_test = np.where(test_pair[:,0] == u)[0]\n",
        "        ind_train = np.where(train_pair[:,0] == u)[0]\n",
        "        if len(ind_test) == 0:\n",
        "            continue\n",
        "        if len(ind_train) < 3:\n",
        "            pred[ind_test] = glb_mean_value\n",
        "        else:\n",
        "            # predict as user average\n",
        "            pred[ind_test] = train_rating[ind_train].mean()\n",
        "    return pred"
      ],
      "metadata": {
        "id": "I3SoWdbZBGlz"
      },
      "execution_count": null,
      "outputs": []
    },
    {
      "cell_type": "code",
      "source": [
        "def item_mean(train_pair, train_rating, test_pair):\n",
        "    n_item = max(train_pair[:,1].max(), test_pair[:,1].max())+1\n",
        "    pred = np.zeros(len(test_pair))\n",
        "    glb_mean_value = train_rating.mean()\n",
        "    for i in range(n_item):\n",
        "        # find the index for both train and test for item_id = i\n",
        "        ind_test = np.where(test_pair[:,1] == i)[0]\n",
        "        ind_train = np.where(train_pair[:,1] == i)[0]\n",
        "        if len(ind_test) == 0:\n",
        "            continue\n",
        "        if len(ind_train) < 3:\n",
        "            pred[ind_test] = glb_mean_value\n",
        "        else:\n",
        "            # predict as user average\n",
        "            pred[ind_test] = train_rating[ind_train].mean()\n",
        "    return pred"
      ],
      "metadata": {
        "id": "9fJY4fTRBK3k"
      },
      "execution_count": null,
      "outputs": []
    },
    {
      "cell_type": "markdown",
      "source": [
        "## Sequential models; user-item mean\n",
        "\n",
        "- We can predict the rating by the `user_mean`, then fit the residual by `item_mean`\n",
        "\n",
        "$$\\hat{r}_{ui} = \\bar{r} + \\mu_u + \\mu_i$$\n",
        "\n",
        "where \n",
        "\t\t$$\\mu_u = \\frac{1}{|\\mathcal{I}_u|} \\sum_{i \\in \\mathcal{I}_u} (r_{ui} - \\bar{r}), \\quad \\mu_i = \\frac{1}{|\\mathcal{U}_i|} \\sum_{u \\in \\mathcal{U}_i} (r_{ui} - \\bar{r} - \\mu_u)$$"
      ],
      "metadata": {
        "id": "GBHQZvlFB99k"
      }
    },
    {
      "cell_type": "code",
      "source": [
        "## compute user-mean\n",
        "pred_rating_user = user_mean(train_pair, train_rating, test_pair)\n",
        "\n",
        "print('rmse for user mean: %.3f' %rmse(test_rating, UA_pred))"
      ],
      "metadata": {
        "colab": {
          "base_uri": "https://localhost:8080/"
        },
        "id": "sutzdFaNB2Ik",
        "outputId": "c6f3cbdc-46b6-4ace-f5e5-8b42905e38f1"
      },
      "execution_count": null,
      "outputs": [
        {
          "output_type": "stream",
          "name": "stdout",
          "text": [
            "rmse for user mean: 1.013\n"
          ]
        }
      ]
    },
    {
      "cell_type": "code",
      "source": [
        "## compute the residual rating\n",
        "## test_pair -> train_pair\n",
        "\n",
        "res_rating = train_rating - user_mean(train_pair, train_rating, train_pair)\n",
        "pred_res_item = item_mean(train_pair, res_rating, test_pair)\n",
        "\n",
        "final_pred = pred_rating_user + pred_res_item\n",
        "print('rmse for user mean: %.3f' %rmse(test_rating, final_pred))"
      ],
      "metadata": {
        "colab": {
          "base_uri": "https://localhost:8080/"
        },
        "id": "AIbFn8eZC4US",
        "outputId": "3d75d4ad-f4d4-4c38-cef5-ce0279e48555"
      },
      "execution_count": null,
      "outputs": [
        {
          "output_type": "stream",
          "name": "stdout",
          "text": [
            "rmse for user mean: 0.964\n"
          ]
        }
      ]
    },
    {
      "cell_type": "markdown",
      "source": [
        "## To-do list\n",
        "\n",
        "- **STAT**\n",
        "  - [ ] Background of RS  \n",
        "  - [ ] The data types in RS\n",
        "  - [ ] Evaluation metrics\n",
        "  - [ ] Statistical models for baseline methods\n",
        "\n",
        "- **Code**\n",
        "\n",
        "  - [ ] Load data to Python `pd.read_csv`\n",
        "  - [ ] implementation of baseline methods\n",
        "  - [ ] define Python functions"
      ],
      "metadata": {
        "id": "SK5tsXyFENi9"
      }
    },
    {
      "cell_type": "markdown",
      "source": [
        "# **CUHK-STAT3009** Notebook - Overview of Recommender Systems\n"
      ],
      "metadata": {
        "id": "61L2GfASGiui"
      }
    }
  ]
}