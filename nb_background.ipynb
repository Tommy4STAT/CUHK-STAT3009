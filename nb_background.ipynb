{
  "nbformat": 4,
  "nbformat_minor": 0,
  "metadata": {
    "colab": {
      "provenance": [],
      "collapsed_sections": [],
      "toc_visible": true
    },
    "kernelspec": {
      "name": "python3",
      "display_name": "Python 3"
    },
    "language_info": {
      "name": "python"
    }
  },
  "cells": [
    {
      "cell_type": "markdown",
      "source": [
        "# **CUHK-STAT3009** Notebook - Overview of Recommender Systems\n"
      ],
      "metadata": {
        "id": "61L2GfASGiui"
      }
    },
    {
      "cell_type": "markdown",
      "source": [
        "## Markdown\n",
        "\n",
        "- We will documentate the Python code by using `markdown`\n",
        "- [Markdown Cheat Sheet](https://www.markdownguide.org/cheat-sheet/)\n",
        "- Make sure a general audit could understand your notebook"
      ],
      "metadata": {
        "id": "kFsVpnq5GwKj"
      }
    },
    {
      "cell_type": "markdown",
      "source": [
        "## Examples (RS) in Kaggle\n",
        "\n",
        "- [Elo Merchant Category Recommendation](https://www.kaggle.com/c/elo-merchant-category-recommendation/data?select=Data+Dictionary.xlsx): `merchant_id` and `card_id`.\n",
        "\n",
        "- [WSDM - KKBox's Music Recommendation Challenge](https://www.kaggle.com/c/kkbox-music-recommendation-challenge/data): `user` and `music`.\n",
        "\n",
        "- [Event Recommendation Engine Challenge](https://www.kaggle.com/c/event-recommendation-engine-challenge/overview/evaluation): `user` and `event`."
      ],
      "metadata": {
        "id": "-GlrTe7HHNc0"
      }
    },
    {
      "cell_type": "markdown",
      "source": [
        "## Load Netflix dataset\n",
        "\n",
        "- Dowload [Netflix Prize Data](https://www.kaggle.com/netflix-inc/netflix-prize-data). (For illustration, we only take the first subset.)\n",
        "\n",
        "- Dataset is pre-processed by [pre-process.py](https://github.com/statmlben/CUHK-STAT3009/tree/main/dataset)\n",
        "\n",
        "- Load data into Python\n",
        "\n",
        "- Re-orginize the data structure as a standard form\n",
        "\n",
        "- For testing set, we remove the real ratings."
      ],
      "metadata": {
        "id": "gz8J5tE8HpY4"
      }
    },
    {
      "cell_type": "code",
      "execution_count": 1,
      "metadata": {
        "id": "laI2Ki_bC_DN"
      },
      "outputs": [],
      "source": [
        "import numpy as np\n",
        "import pandas as pd\n",
        "\n",
        "## Upload Netflix dataset in CUHK-STAT3009 Github repo\n",
        "\n",
        "train_url = \"https://raw.githubusercontent.com/statmlben/CUHK-STAT3009/main/dataset/train.csv\"\n",
        "test_url = \"https://raw.githubusercontent.com/statmlben/CUHK-STAT3009/main/dataset/train.csv\"\n",
        "\n",
        "dtrain = pd.read_csv(train_url)\n",
        "dtest = pd.read_csv(test_url)\n",
        "\n",
        "## save real ratings for test set for evaluation.\n",
        "test_rating = np.array(dtest['rating'], dtype=float)\n",
        "## remove the ratings in the test set to simulate prediction\n",
        "dtest = dtest.drop(columns='rating')"
      ]
    },
    {
      "cell_type": "code",
      "source": [
        "dtrain.sample(5).T"
      ],
      "metadata": {
        "colab": {
          "base_uri": "https://localhost:8080/",
          "height": 175
        },
        "id": "Mmz3WC4ZLKlV",
        "outputId": "dc848bcf-62c3-46fe-d194-81c4ba20a78e"
      },
      "execution_count": 2,
      "outputs": [
        {
          "output_type": "execute_result",
          "data": {
            "text/plain": [
              "               48099       41453       3792        65          32925\n",
              "movie_id        3415         241        2317        2843        2665\n",
              "user_id           41         858        1404        1820        1838\n",
              "rating             4           4           5           2           4\n",
              "date      2004-06-07  2004-03-23  2005-12-11  2003-04-03  2005-11-25"
            ],
            "text/html": [
              "\n",
              "  <div id=\"df-477aaeb1-5efb-437f-922f-af3d13b7a24e\">\n",
              "    <div class=\"colab-df-container\">\n",
              "      <div>\n",
              "<style scoped>\n",
              "    .dataframe tbody tr th:only-of-type {\n",
              "        vertical-align: middle;\n",
              "    }\n",
              "\n",
              "    .dataframe tbody tr th {\n",
              "        vertical-align: top;\n",
              "    }\n",
              "\n",
              "    .dataframe thead th {\n",
              "        text-align: right;\n",
              "    }\n",
              "</style>\n",
              "<table border=\"1\" class=\"dataframe\">\n",
              "  <thead>\n",
              "    <tr style=\"text-align: right;\">\n",
              "      <th></th>\n",
              "      <th>48099</th>\n",
              "      <th>41453</th>\n",
              "      <th>3792</th>\n",
              "      <th>65</th>\n",
              "      <th>32925</th>\n",
              "    </tr>\n",
              "  </thead>\n",
              "  <tbody>\n",
              "    <tr>\n",
              "      <th>movie_id</th>\n",
              "      <td>3415</td>\n",
              "      <td>241</td>\n",
              "      <td>2317</td>\n",
              "      <td>2843</td>\n",
              "      <td>2665</td>\n",
              "    </tr>\n",
              "    <tr>\n",
              "      <th>user_id</th>\n",
              "      <td>41</td>\n",
              "      <td>858</td>\n",
              "      <td>1404</td>\n",
              "      <td>1820</td>\n",
              "      <td>1838</td>\n",
              "    </tr>\n",
              "    <tr>\n",
              "      <th>rating</th>\n",
              "      <td>4</td>\n",
              "      <td>4</td>\n",
              "      <td>5</td>\n",
              "      <td>2</td>\n",
              "      <td>4</td>\n",
              "    </tr>\n",
              "    <tr>\n",
              "      <th>date</th>\n",
              "      <td>2004-06-07</td>\n",
              "      <td>2004-03-23</td>\n",
              "      <td>2005-12-11</td>\n",
              "      <td>2003-04-03</td>\n",
              "      <td>2005-11-25</td>\n",
              "    </tr>\n",
              "  </tbody>\n",
              "</table>\n",
              "</div>\n",
              "      <button class=\"colab-df-convert\" onclick=\"convertToInteractive('df-477aaeb1-5efb-437f-922f-af3d13b7a24e')\"\n",
              "              title=\"Convert this dataframe to an interactive table.\"\n",
              "              style=\"display:none;\">\n",
              "        \n",
              "  <svg xmlns=\"http://www.w3.org/2000/svg\" height=\"24px\"viewBox=\"0 0 24 24\"\n",
              "       width=\"24px\">\n",
              "    <path d=\"M0 0h24v24H0V0z\" fill=\"none\"/>\n",
              "    <path d=\"M18.56 5.44l.94 2.06.94-2.06 2.06-.94-2.06-.94-.94-2.06-.94 2.06-2.06.94zm-11 1L8.5 8.5l.94-2.06 2.06-.94-2.06-.94L8.5 2.5l-.94 2.06-2.06.94zm10 10l.94 2.06.94-2.06 2.06-.94-2.06-.94-.94-2.06-.94 2.06-2.06.94z\"/><path d=\"M17.41 7.96l-1.37-1.37c-.4-.4-.92-.59-1.43-.59-.52 0-1.04.2-1.43.59L10.3 9.45l-7.72 7.72c-.78.78-.78 2.05 0 2.83L4 21.41c.39.39.9.59 1.41.59.51 0 1.02-.2 1.41-.59l7.78-7.78 2.81-2.81c.8-.78.8-2.07 0-2.86zM5.41 20L4 18.59l7.72-7.72 1.47 1.35L5.41 20z\"/>\n",
              "  </svg>\n",
              "      </button>\n",
              "      \n",
              "  <style>\n",
              "    .colab-df-container {\n",
              "      display:flex;\n",
              "      flex-wrap:wrap;\n",
              "      gap: 12px;\n",
              "    }\n",
              "\n",
              "    .colab-df-convert {\n",
              "      background-color: #E8F0FE;\n",
              "      border: none;\n",
              "      border-radius: 50%;\n",
              "      cursor: pointer;\n",
              "      display: none;\n",
              "      fill: #1967D2;\n",
              "      height: 32px;\n",
              "      padding: 0 0 0 0;\n",
              "      width: 32px;\n",
              "    }\n",
              "\n",
              "    .colab-df-convert:hover {\n",
              "      background-color: #E2EBFA;\n",
              "      box-shadow: 0px 1px 2px rgba(60, 64, 67, 0.3), 0px 1px 3px 1px rgba(60, 64, 67, 0.15);\n",
              "      fill: #174EA6;\n",
              "    }\n",
              "\n",
              "    [theme=dark] .colab-df-convert {\n",
              "      background-color: #3B4455;\n",
              "      fill: #D2E3FC;\n",
              "    }\n",
              "\n",
              "    [theme=dark] .colab-df-convert:hover {\n",
              "      background-color: #434B5C;\n",
              "      box-shadow: 0px 1px 3px 1px rgba(0, 0, 0, 0.15);\n",
              "      filter: drop-shadow(0px 1px 2px rgba(0, 0, 0, 0.3));\n",
              "      fill: #FFFFFF;\n",
              "    }\n",
              "  </style>\n",
              "\n",
              "      <script>\n",
              "        const buttonEl =\n",
              "          document.querySelector('#df-477aaeb1-5efb-437f-922f-af3d13b7a24e button.colab-df-convert');\n",
              "        buttonEl.style.display =\n",
              "          google.colab.kernel.accessAllowed ? 'block' : 'none';\n",
              "\n",
              "        async function convertToInteractive(key) {\n",
              "          const element = document.querySelector('#df-477aaeb1-5efb-437f-922f-af3d13b7a24e');\n",
              "          const dataTable =\n",
              "            await google.colab.kernel.invokeFunction('convertToInteractive',\n",
              "                                                     [key], {});\n",
              "          if (!dataTable) return;\n",
              "\n",
              "          const docLinkHtml = 'Like what you see? Visit the ' +\n",
              "            '<a target=\"_blank\" href=https://colab.research.google.com/notebooks/data_table.ipynb>data table notebook</a>'\n",
              "            + ' to learn more about interactive tables.';\n",
              "          element.innerHTML = '';\n",
              "          dataTable['output_type'] = 'display_data';\n",
              "          await google.colab.output.renderOutput(dataTable, element);\n",
              "          const docLink = document.createElement('div');\n",
              "          docLink.innerHTML = docLinkHtml;\n",
              "          element.appendChild(docLink);\n",
              "        }\n",
              "      </script>\n",
              "    </div>\n",
              "  </div>\n",
              "  "
            ]
          },
          "metadata": {},
          "execution_count": 2
        }
      ]
    },
    {
      "cell_type": "code",
      "source": [
        "dtest.sample(5).T"
      ],
      "metadata": {
        "colab": {
          "base_uri": "https://localhost:8080/",
          "height": 143
        },
        "id": "ooQwfD_0LRb4",
        "outputId": "c4b3a63e-a92b-4fa1-f300-8160e7c7f9dd"
      },
      "execution_count": 3,
      "outputs": [
        {
          "output_type": "execute_result",
          "data": {
            "text/plain": [
              "               41957       17760       33557       18950       48485\n",
              "movie_id        1869         712         916        1424         495\n",
              "user_id         1917        1949        1782        1623        1664\n",
              "date      2005-01-04  2005-06-28  2005-02-20  2005-05-14  2003-05-03"
            ],
            "text/html": [
              "\n",
              "  <div id=\"df-9d302b56-456c-4de8-8d88-276988cd2709\">\n",
              "    <div class=\"colab-df-container\">\n",
              "      <div>\n",
              "<style scoped>\n",
              "    .dataframe tbody tr th:only-of-type {\n",
              "        vertical-align: middle;\n",
              "    }\n",
              "\n",
              "    .dataframe tbody tr th {\n",
              "        vertical-align: top;\n",
              "    }\n",
              "\n",
              "    .dataframe thead th {\n",
              "        text-align: right;\n",
              "    }\n",
              "</style>\n",
              "<table border=\"1\" class=\"dataframe\">\n",
              "  <thead>\n",
              "    <tr style=\"text-align: right;\">\n",
              "      <th></th>\n",
              "      <th>41957</th>\n",
              "      <th>17760</th>\n",
              "      <th>33557</th>\n",
              "      <th>18950</th>\n",
              "      <th>48485</th>\n",
              "    </tr>\n",
              "  </thead>\n",
              "  <tbody>\n",
              "    <tr>\n",
              "      <th>movie_id</th>\n",
              "      <td>1869</td>\n",
              "      <td>712</td>\n",
              "      <td>916</td>\n",
              "      <td>1424</td>\n",
              "      <td>495</td>\n",
              "    </tr>\n",
              "    <tr>\n",
              "      <th>user_id</th>\n",
              "      <td>1917</td>\n",
              "      <td>1949</td>\n",
              "      <td>1782</td>\n",
              "      <td>1623</td>\n",
              "      <td>1664</td>\n",
              "    </tr>\n",
              "    <tr>\n",
              "      <th>date</th>\n",
              "      <td>2005-01-04</td>\n",
              "      <td>2005-06-28</td>\n",
              "      <td>2005-02-20</td>\n",
              "      <td>2005-05-14</td>\n",
              "      <td>2003-05-03</td>\n",
              "    </tr>\n",
              "  </tbody>\n",
              "</table>\n",
              "</div>\n",
              "      <button class=\"colab-df-convert\" onclick=\"convertToInteractive('df-9d302b56-456c-4de8-8d88-276988cd2709')\"\n",
              "              title=\"Convert this dataframe to an interactive table.\"\n",
              "              style=\"display:none;\">\n",
              "        \n",
              "  <svg xmlns=\"http://www.w3.org/2000/svg\" height=\"24px\"viewBox=\"0 0 24 24\"\n",
              "       width=\"24px\">\n",
              "    <path d=\"M0 0h24v24H0V0z\" fill=\"none\"/>\n",
              "    <path d=\"M18.56 5.44l.94 2.06.94-2.06 2.06-.94-2.06-.94-.94-2.06-.94 2.06-2.06.94zm-11 1L8.5 8.5l.94-2.06 2.06-.94-2.06-.94L8.5 2.5l-.94 2.06-2.06.94zm10 10l.94 2.06.94-2.06 2.06-.94-2.06-.94-.94-2.06-.94 2.06-2.06.94z\"/><path d=\"M17.41 7.96l-1.37-1.37c-.4-.4-.92-.59-1.43-.59-.52 0-1.04.2-1.43.59L10.3 9.45l-7.72 7.72c-.78.78-.78 2.05 0 2.83L4 21.41c.39.39.9.59 1.41.59.51 0 1.02-.2 1.41-.59l7.78-7.78 2.81-2.81c.8-.78.8-2.07 0-2.86zM5.41 20L4 18.59l7.72-7.72 1.47 1.35L5.41 20z\"/>\n",
              "  </svg>\n",
              "      </button>\n",
              "      \n",
              "  <style>\n",
              "    .colab-df-container {\n",
              "      display:flex;\n",
              "      flex-wrap:wrap;\n",
              "      gap: 12px;\n",
              "    }\n",
              "\n",
              "    .colab-df-convert {\n",
              "      background-color: #E8F0FE;\n",
              "      border: none;\n",
              "      border-radius: 50%;\n",
              "      cursor: pointer;\n",
              "      display: none;\n",
              "      fill: #1967D2;\n",
              "      height: 32px;\n",
              "      padding: 0 0 0 0;\n",
              "      width: 32px;\n",
              "    }\n",
              "\n",
              "    .colab-df-convert:hover {\n",
              "      background-color: #E2EBFA;\n",
              "      box-shadow: 0px 1px 2px rgba(60, 64, 67, 0.3), 0px 1px 3px 1px rgba(60, 64, 67, 0.15);\n",
              "      fill: #174EA6;\n",
              "    }\n",
              "\n",
              "    [theme=dark] .colab-df-convert {\n",
              "      background-color: #3B4455;\n",
              "      fill: #D2E3FC;\n",
              "    }\n",
              "\n",
              "    [theme=dark] .colab-df-convert:hover {\n",
              "      background-color: #434B5C;\n",
              "      box-shadow: 0px 1px 3px 1px rgba(0, 0, 0, 0.15);\n",
              "      filter: drop-shadow(0px 1px 2px rgba(0, 0, 0, 0.3));\n",
              "      fill: #FFFFFF;\n",
              "    }\n",
              "  </style>\n",
              "\n",
              "      <script>\n",
              "        const buttonEl =\n",
              "          document.querySelector('#df-9d302b56-456c-4de8-8d88-276988cd2709 button.colab-df-convert');\n",
              "        buttonEl.style.display =\n",
              "          google.colab.kernel.accessAllowed ? 'block' : 'none';\n",
              "\n",
              "        async function convertToInteractive(key) {\n",
              "          const element = document.querySelector('#df-9d302b56-456c-4de8-8d88-276988cd2709');\n",
              "          const dataTable =\n",
              "            await google.colab.kernel.invokeFunction('convertToInteractive',\n",
              "                                                     [key], {});\n",
              "          if (!dataTable) return;\n",
              "\n",
              "          const docLinkHtml = 'Like what you see? Visit the ' +\n",
              "            '<a target=\"_blank\" href=https://colab.research.google.com/notebooks/data_table.ipynb>data table notebook</a>'\n",
              "            + ' to learn more about interactive tables.';\n",
              "          element.innerHTML = '';\n",
              "          dataTable['output_type'] = 'display_data';\n",
              "          await google.colab.output.renderOutput(dataTable, element);\n",
              "          const docLink = document.createElement('div');\n",
              "          docLink.innerHTML = docLinkHtml;\n",
              "          element.appendChild(docLink);\n",
              "        }\n",
              "      </script>\n",
              "    </div>\n",
              "  </div>\n",
              "  "
            ]
          },
          "metadata": {},
          "execution_count": 3
        }
      ]
    },
    {
      "cell_type": "markdown",
      "source": [
        "### Pre-process the data as a `np.array`"
      ],
      "metadata": {
        "id": "40xSnlBPLd20"
      }
    },
    {
      "cell_type": "code",
      "source": [
        "## save (user_id, item_id) and rating separately\n",
        "train_pair = dtrain[['user_id', 'movie_id']].values\n",
        "train_rating = np.array(dtrain['rating'], dtype=float)\n",
        "test_pair = dtest[['user_id', 'movie_id']].values"
      ],
      "metadata": {
        "id": "-4vsUi4SLao_"
      },
      "execution_count": 4,
      "outputs": []
    },
    {
      "cell_type": "code",
      "source": [
        "train_pair"
      ],
      "metadata": {
        "colab": {
          "base_uri": "https://localhost:8080/"
        },
        "id": "Sc5zBKqtL3vA",
        "outputId": "fcf60893-a714-4666-dfa8-7a9df2ca2e7c"
      },
      "execution_count": 5,
      "outputs": [
        {
          "output_type": "execute_result",
          "data": {
            "text/plain": [
              "array([[1960,  670],\n",
              "       [1346,  152],\n",
              "       [ 785, 1741],\n",
              "       ...,\n",
              "       [ 858, 2725],\n",
              "       [1809,   21],\n",
              "       [ 142,  574]])"
            ]
          },
          "metadata": {},
          "execution_count": 5
        }
      ]
    },
    {
      "cell_type": "code",
      "source": [
        "## find the number of users/items\n",
        "\n",
        "n_user, n_item = max(train_pair[:,0].max(), test_pair[:,0].max())+1, max(train_pair[:,1].max(), test_pair[:,1].max())+1"
      ],
      "metadata": {
        "id": "2phtzI5rKbtl"
      },
      "execution_count": 6,
      "outputs": []
    },
    {
      "cell_type": "markdown",
      "source": [
        "## Evaluation\n",
        "\n",
        "- Define a function to compute `rmse` for the predicted rating\n",
        "\n",
        "- Test your function"
      ],
      "metadata": {
        "id": "u0_NscNaQjOn"
      }
    },
    {
      "cell_type": "code",
      "source": [
        "def rmse(true_rating, pred_rating):\n",
        "  return np.sqrt(np.mean((true_rating - pred_rating)**2))"
      ],
      "metadata": {
        "id": "d6s1IQgsQxZH"
      },
      "execution_count": 7,
      "outputs": []
    },
    {
      "cell_type": "code",
      "source": [
        "## Test `rmse` function\n",
        "\n",
        "pred = np.zeros(len(test_rating))\n",
        "print('rmse for zero rating: %.3f' %rmse(test_rating, pred))\n",
        "print('rmse for true rating: %.3f' %rmse(test_rating, test_rating))"
      ],
      "metadata": {
        "colab": {
          "base_uri": "https://localhost:8080/"
        },
        "id": "nIbtcs1yQ-XX",
        "outputId": "98e6e39c-1c81-4dd6-9762-698b206aad4e"
      },
      "execution_count": 8,
      "outputs": [
        {
          "output_type": "stream",
          "name": "stdout",
          "text": [
            "rmse for zero rating: 3.781\n",
            "rmse for true rating: 0.000\n"
          ]
        }
      ]
    },
    {
      "cell_type": "markdown",
      "source": [
        "## Implement Baseline methods\n",
        "\n",
        "- Inpout: training set.\n",
        "\n",
        "- Output: return predicted ratings for (user id, item id) user-item pairs in testing set.\n",
        "\n",
        "- Goal: make prediction for testing set"
      ],
      "metadata": {
        "id": "I6Q8azZBMsTr"
      }
    },
    {
      "cell_type": "markdown",
      "source": [
        "### Global mean"
      ],
      "metadata": {
        "id": "fZcI0KssCZlF"
      }
    },
    {
      "cell_type": "code",
      "source": [
        "## create a potential prediction for `test_rating`\n",
        "pred = np.zeros(len(test_rating))\n",
        "\n",
        "## Compute global mean based on `train_rating`\n",
        "global_pred = pred.copy()\n",
        "global_mean = train_rating.mean()\n",
        "global_pred = global_mean*np.ones(len(pred))\n",
        "\n",
        "print(global_pred[:10])\n",
        "print('rmse for global mean: %.3f' %rmse(test_rating, global_pred))"
      ],
      "metadata": {
        "colab": {
          "base_uri": "https://localhost:8080/"
        },
        "id": "geJGIMtNM9Mv",
        "outputId": "0991d03b-ac8b-4356-c30e-d598dcbbba0f"
      },
      "execution_count": 9,
      "outputs": [
        {
          "output_type": "stream",
          "name": "stdout",
          "text": [
            "[3.62115674 3.62115674 3.62115674 3.62115674 3.62115674 3.62115674\n",
            " 3.62115674 3.62115674 3.62115674 3.62115674]\n",
            "rmse for global mean: 1.088\n"
          ]
        }
      ]
    },
    {
      "cell_type": "markdown",
      "source": [
        "### user average\n",
        "\n",
        "- Loop for all users\n",
        "  - Find all records for this user in both training and testing sets.\n",
        "  - Compute the average ratings for this user in the training set.\n",
        "  - Predict the ratings for this users in the testing set."
      ],
      "metadata": {
        "id": "rgPwtxBBNrzz"
      }
    },
    {
      "cell_type": "code",
      "source": [
        "## (InClass Practice) user average\n",
        "UA_pred = np.zeros_like(test_rating, dtype=float)\n",
        "for u in range(n_user):\n",
        "    # find the index for both train and test for user_id = u\n",
        "    ind_test = np.where(test_pair[:,0] == u)[0]\n",
        "    ind_train = np.where(train_pair[:,0] == u)[0]\n",
        "    ## if there is no record; predict as the global mean\n",
        "    if len(ind_test) == 0:\n",
        "        continue\n",
        "    ## (Practice) if the records for the users is too small, then predict as global mean\n",
        "    if len(ind_train) < 3:\n",
        "        UA_pred[ind_test] = global_mean\n",
        "    else:\n",
        "        # predict as user average\n",
        "        UA_pred[ind_test] = train_rating[ind_train].mean()\n",
        "print(UA_pred[:10])\n",
        "\n",
        "print('rmse for user mean: %.3f' %rmse(test_rating, UA_pred))"
      ],
      "metadata": {
        "colab": {
          "base_uri": "https://localhost:8080/"
        },
        "id": "aJC3fcr_NWQP",
        "outputId": "060efa65-0319-472c-b5e0-5e1289ff9562"
      },
      "execution_count": 10,
      "outputs": [
        {
          "output_type": "stream",
          "name": "stdout",
          "text": [
            "[3.81556196 3.71962617 2.95774648 4.52272727 3.69393939 3.81632653\n",
            " 4.         3.59440559 3.05263158 4.        ]\n",
            "rmse for user mean: 0.977\n"
          ]
        }
      ]
    },
    {
      "cell_type": "markdown",
      "source": [
        "### item average"
      ],
      "metadata": {
        "id": "lIODUfHlCUsh"
      }
    },
    {
      "cell_type": "code",
      "source": [
        "## (InClass Practice) item average\n",
        "IA_pred = np.zeros_like(test_rating, dtype=float)\n",
        "for i in range(n_item):\n",
        "    # find the index for both train and test for item_id = i\n",
        "    ind_test = np.where(test_pair[:,1] == i)[0]\n",
        "    ind_train = np.where(train_pair[:,1] == i)[0]\n",
        "    if len(ind_test) == 0:\n",
        "        continue\n",
        "    if len(ind_train) < 3:\n",
        "        IA_pred[ind_test] = global_mean\n",
        "    else:\n",
        "        # predict as item average\n",
        "        IA_pred[ind_test] = train_rating[ind_train].mean()\n",
        "\n",
        "print('rmse for item mean: %.3f' %rmse(test_rating, IA_pred))"
      ],
      "metadata": {
        "colab": {
          "base_uri": "https://localhost:8080/"
        },
        "id": "WC_8umwbReuC",
        "outputId": "91cab25a-0782-455d-c8e1-26e0b02cbc7f"
      },
      "execution_count": 11,
      "outputs": [
        {
          "output_type": "stream",
          "name": "stdout",
          "text": [
            "rmse for item mean: 1.009\n"
          ]
        }
      ]
    },
    {
      "cell_type": "markdown",
      "source": [
        "## Package Python functions\n",
        "\n",
        "\n",
        "- *Input*: 'train_rating', 'test_pair'\n",
        "\n",
        "- *Return*: Predicted ratings."
      ],
      "metadata": {
        "id": "IADOQ4o8Aoee"
      }
    },
    {
      "cell_type": "code",
      "source": [
        "def glb_mean(train_rating, test_pair):\n",
        "    pred = train_rating.mean() * np.ones(len(test_pair))\n",
        "    return pred"
      ],
      "metadata": {
        "id": "TA4xMKeq_mIt"
      },
      "execution_count": 12,
      "outputs": []
    },
    {
      "cell_type": "code",
      "source": [
        "def user_mean(train_pair, train_rating, test_pair):\n",
        "    n_user = max(train_pair[:,0].max(), test_pair[:,0].max())+1\n",
        "    pred = np.zeros(len(test_pair))\n",
        "    glb_mean_value = train_rating.mean()\n",
        "    for u in range(n_user):\n",
        "        # find the index for both train and test for user_id = u\n",
        "        ind_test = np.where(test_pair[:,0] == u)[0]\n",
        "        ind_train = np.where(train_pair[:,0] == u)[0]\n",
        "        if len(ind_test) == 0:\n",
        "            continue\n",
        "        if len(ind_train) < 3:\n",
        "            pred[ind_test] = glb_mean_value\n",
        "        else:\n",
        "            # predict as user average\n",
        "            pred[ind_test] = train_rating[ind_train].mean()\n",
        "    return pred"
      ],
      "metadata": {
        "id": "I3SoWdbZBGlz"
      },
      "execution_count": 13,
      "outputs": []
    },
    {
      "cell_type": "code",
      "source": [
        "def item_mean(train_pair, train_rating, test_pair):\n",
        "    n_item = max(train_pair[:,1].max(), test_pair[:,1].max())+1\n",
        "    pred = np.zeros(len(test_pair))\n",
        "    glb_mean_value = train_rating.mean()\n",
        "    for i in range(n_item):\n",
        "        # find the index for both train and test for item_id = i\n",
        "        ind_test = np.where(test_pair[:,1] == i)[0]\n",
        "        ind_train = np.where(train_pair[:,1] == i)[0]\n",
        "        if len(ind_test) == 0:\n",
        "            continue\n",
        "        if len(ind_train) < 3:\n",
        "            pred[ind_test] = glb_mean_value\n",
        "        else:\n",
        "            # predict as user average\n",
        "            pred[ind_test] = train_rating[ind_train].mean()\n",
        "    return pred"
      ],
      "metadata": {
        "id": "9fJY4fTRBK3k"
      },
      "execution_count": 14,
      "outputs": []
    },
    {
      "cell_type": "markdown",
      "source": [
        "## Sequential models; user-item mean\n",
        "\n",
        "- We can predict the rating by the `user_mean`, then fit the residual by `item_mean`\n",
        "\n",
        "$$\\hat{r}_{ui} = \\bar{r} + \\mu_u + \\mu_i$$\n",
        "\n",
        "where \n",
        "\t\t$$\\mu_u = \\frac{1}{|\\mathcal{I}_u|} \\sum_{i \\in \\mathcal{I}_u} (r_{ui} - \\bar{r}), \\quad \\mu_i = \\frac{1}{|\\mathcal{U}_i|} \\sum_{u \\in \\mathcal{U}_i} (r_{ui} - \\bar{r} - \\mu_u)$$"
      ],
      "metadata": {
        "id": "GBHQZvlFB99k"
      }
    },
    {
      "cell_type": "code",
      "source": [
        "pred_rating_user = user_mean(train_pair, train_rating, test_pair)\n",
        "\n",
        "print('rmse for user mean: %.3f' %rmse(test_rating, UA_pred))"
      ],
      "metadata": {
        "colab": {
          "base_uri": "https://localhost:8080/"
        },
        "id": "sutzdFaNB2Ik",
        "outputId": "2491357c-6a41-43d6-b55d-7b9cf18c321b"
      },
      "execution_count": 16,
      "outputs": [
        {
          "output_type": "stream",
          "name": "stdout",
          "text": [
            "rmse for user mean: 0.977\n"
          ]
        }
      ]
    },
    {
      "cell_type": "code",
      "source": [
        "## compute the residual rating\n",
        "## test_pair -> train_pair\n",
        "\n",
        "res_rating = train_rating - user_mean(train_pair, train_rating, train_pair)\n",
        "pred_res_item = item_mean(train_pair, res_rating, test_pair)\n",
        "\n",
        "final_pred = pred_rating_user + pred_res_item\n",
        "print('rmse for user mean: %.3f' %rmse(test_rating, final_pred))"
      ],
      "metadata": {
        "colab": {
          "base_uri": "https://localhost:8080/"
        },
        "id": "AIbFn8eZC4US",
        "outputId": "35275816-af4c-45ac-d15c-14570e13f07a"
      },
      "execution_count": 18,
      "outputs": [
        {
          "output_type": "stream",
          "name": "stdout",
          "text": [
            "rmse for user mean: 0.903\n"
          ]
        }
      ]
    },
    {
      "cell_type": "markdown",
      "source": [
        "## To-do list\n",
        "\n",
        "- **STAT**\n",
        "  - [ ] Background of RS  \n",
        "  - [ ] The data types in RS\n",
        "  - [ ] Evaluation metrics\n",
        "  - [ ] Statistical models for baseline methods\n",
        "\n",
        "- **Code**\n",
        "\n",
        "  - [ ] Load data to Python `pd.read_csv`\n",
        "  - [ ] implementation of baseline methods\n",
        "  - [ ] define Python functions"
      ],
      "metadata": {
        "id": "SK5tsXyFENi9"
      }
    }
  ]
}