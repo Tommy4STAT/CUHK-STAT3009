{
  "nbformat": 4,
  "nbformat_minor": 0,
  "metadata": {
    "colab": {
      "provenance": [],
      "collapsed_sections": []
    },
    "kernelspec": {
      "name": "python3",
      "display_name": "Python 3"
    },
    "language_info": {
      "name": "python"
    }
  },
  "cells": [
    {
      "cell_type": "markdown",
      "source": [
        "# **CUHK-STAT3009** Notebook - Matrix Factorization\n"
      ],
      "metadata": {
        "id": "nDMm19ijSzj_"
      }
    },
    {
      "cell_type": "code",
      "execution_count": 18,
      "metadata": {
        "id": "vtbRV_5VSoUA"
      },
      "outputs": [],
      "source": [
        "# Load and pro-processed dataset\n",
        "import numpy as np\n",
        "import pandas as pd\n",
        "\n",
        "## Upload Netflix dataset in CUHK-STAT3009 Github repo\n",
        "\n",
        "train_url = \"https://raw.githubusercontent.com/statmlben/CUHK-STAT3009/main/dataset/train.csv\"\n",
        "test_url = \"https://raw.githubusercontent.com/statmlben/CUHK-STAT3009/main/dataset/test.csv\"\n",
        "\n",
        "dtrain = pd.read_csv(train_url)\n",
        "dtest = pd.read_csv(test_url)\n",
        "\n",
        "train_rating = dtrain['rating'].values\n",
        "train_rating = np.array(train_rating, dtype=float)\n",
        "train_pair = dtrain[['user_id', 'movie_id']].values\n",
        "\n",
        "test_rating = dtest['rating'].values\n",
        "test_rating = np.array(test_rating, dtype=float)\n",
        "test_pair = dtest[['user_id', 'movie_id']].values\n",
        "\n",
        "n_user = max( max(train_pair[:,0]), max(test_pair[:,0]) ) + 1\n",
        "n_item = max( max(train_pair[:,1]), max(test_pair[:,1]) ) + 1\n",
        "\n",
        "def rmse(test_rating, pred_rating):\n",
        "    return np.sqrt( np.mean( (pred_rating - test_rating)**2) )"
      ]
    },
    {
      "cell_type": "markdown",
      "source": [
        "## ALS-MF\n",
        "\n",
        "### Idea\n",
        "  - BCD perfectly fits our formulation\n",
        "  - solve $\\mathbf{Q}$ (fixed $\\mathbf{P}$) $\\to$ solve $\\mathbf{P}$ (fixed $\\mathbf{Q}$) $\\to$ ...\n",
        "\n",
        "### Steps\n",
        "\n",
        "- When $\\mathbf{P}$ is fixed, the objective function for $\\mathbf{Q}$ is a standard QP, and each $\\mathbf{q}_i$ can be solved **parallelly** with an **analytic solution**:\n",
        "$$ \\mathbf{q}^{(l+1)}_i = ( \\sum_{u \\in \\mathcal{U}_i} \\mathbf{p}^{(l)}_u (\\mathbf{p}^{(l)}_u)^\\intercal + \\lambda |\\Omega| \\mathbf{I})^{-1} \\sum_{u \\in \\mathcal{U}_i} r_{ui} \\mathbf{p}^{(l)}_u $$\n",
        "\n",
        "- When $\\mathbf{Q}$ is fixed, the objective function for $\\mathbf{P}$ is a standard QP, and each $\\mathbf{p}_i$ can be solved **parallelly** with an **analytic solution**.\n",
        "$$\\mathbf{p}^{(l+1)}_u =  ( \\sum_{i \\in \\mathcal{I}_u} \\mathbf{q}^{(l+1)}_i (\\mathbf{q}^{(l+1)}_i)^\\intercal + \\lambda |\\Omega| \\mathbf{I})^{-1} \\sum_{i \\in \\mathcal{I}_u} r_{ui} \\mathbf{q}^{(l+1)}_i$$\n"
      ],
      "metadata": {
        "id": "9FeIB2nxTaDW"
      }
    },
    {
      "cell_type": "markdown",
      "source": [
        "### illustrated with user-0 and item-0"
      ],
      "metadata": {
        "id": "i6ctjEPJWoK9"
      }
    },
    {
      "cell_type": "code",
      "source": [
        "## Initialization\n",
        "K, lam = 5, .1 # hps\n",
        "n_obs = len(train_rating)\n",
        "P = np.random.randn(n_user, K)\n",
        "Q = np.random.randn(n_item, K)\n",
        "\n",
        "index_item = [np.where(train_pair[:,1] == i)[0] for i in range(n_item)]\n",
        "index_user = [np.where(train_pair[:,0] == u)[0] for u in range(n_user)]"
      ],
      "metadata": {
        "id": "eiS88ABqUU-v"
      },
      "execution_count": 3,
      "outputs": []
    },
    {
      "cell_type": "code",
      "source": [
        "## illustrated with user-0 and item-0\n",
        "# update q0\n",
        "item_id = 0\n",
        "index_item_tmp = index_item[item_id]\n",
        "# compute `sum_pu` and `sum_matrix`\n",
        "sum_pu, sum_matrix = np.zeros((K)), np.zeros((K, K))\n",
        "for record_ind in index_item_tmp:\n",
        "  user_id, rating_tmp = train_pair[record_ind][0], train_rating[record_ind]\n",
        "  print('users with item-0: %s' %user_id)\n",
        "  sum_matrix = sum_matrix + np.outer(P[user_id,:], P[user_id,:])\n",
        "  sum_pu = sum_pu + rating_tmp * P[user_id,:]"
      ],
      "metadata": {
        "colab": {
          "base_uri": "https://localhost:8080/"
        },
        "id": "c5LiUZOtWscv",
        "outputId": "59938850-3b86-4723-93bb-b31ebd55c85c"
      },
      "execution_count": 4,
      "outputs": [
        {
          "output_type": "stream",
          "name": "stdout",
          "text": [
            "users with item-0: 425\n",
            "users with item-0: 161\n",
            "users with item-0: 566\n"
          ]
        }
      ]
    },
    {
      "cell_type": "code",
      "source": [
        "Q[item_id,:] = np.dot(np.linalg.inv(sum_matrix + lam*n_obs*np.identity(K)), sum_pu)\n",
        "print('the one-step sol of q0: %s' %Q[item_id,:])"
      ],
      "metadata": {
        "colab": {
          "base_uri": "https://localhost:8080/"
        },
        "id": "LohB0-U0Xk-9",
        "outputId": "59817ae6-2a53-4bab-9f47-115ce335a9c5"
      },
      "execution_count": 6,
      "outputs": [
        {
          "output_type": "stream",
          "name": "stdout",
          "text": [
            "the one-step sol of q0: [ 4.07894574e-05 -3.05766755e-04  1.27221346e-03 -5.28671369e-04\n",
            "  3.98681667e-04]\n"
          ]
        }
      ]
    },
    {
      "cell_type": "code",
      "source": [
        "# update p0\n",
        "user_id = 0\n",
        "index_user_tmp = index_user[user_id]\n",
        "# compute `sum_qi` and `sum_matrix`\n",
        "sum_qi, sum_matrix = np.zeros((K)), np.zeros((K, K))\n",
        "for record_ind in index_user_tmp:\n",
        "  item_id, rating_tmp = train_pair[record_ind][1], train_rating[record_ind]\n",
        "  print('item with user-0: %s' %item_id)\n",
        "  sum_matrix = sum_matrix + np.outer(Q[item_id,:], Q[item_id,:])\n",
        "  sum_qi = sum_qi + rating_tmp * Q[item_id,:]"
      ],
      "metadata": {
        "colab": {
          "base_uri": "https://localhost:8080/"
        },
        "id": "pyr208jsYZO5",
        "outputId": "3361ee04-9cbf-4e0d-fe37-db4a489b51b4"
      },
      "execution_count": 7,
      "outputs": [
        {
          "output_type": "stream",
          "name": "stdout",
          "text": [
            "item with user-0: 2720\n",
            "item with user-0: 1935\n",
            "item with user-0: 3126\n",
            "item with user-0: 3386\n",
            "item with user-0: 1118\n",
            "item with user-0: 1686\n",
            "item with user-0: 151\n",
            "item with user-0: 1456\n",
            "item with user-0: 2893\n",
            "item with user-0: 571\n",
            "item with user-0: 712\n",
            "item with user-0: 586\n",
            "item with user-0: 3148\n",
            "item with user-0: 2306\n",
            "item with user-0: 3295\n",
            "item with user-0: 395\n",
            "item with user-0: 2198\n",
            "item with user-0: 1546\n",
            "item with user-0: 1164\n",
            "item with user-0: 3256\n",
            "item with user-0: 426\n",
            "item with user-0: 977\n",
            "item with user-0: 2885\n",
            "item with user-0: 1019\n",
            "item with user-0: 3487\n",
            "item with user-0: 1292\n",
            "item with user-0: 3383\n",
            "item with user-0: 1577\n",
            "item with user-0: 2790\n",
            "item with user-0: 2337\n",
            "item with user-0: 2345\n",
            "item with user-0: 945\n",
            "item with user-0: 1428\n",
            "item with user-0: 1306\n",
            "item with user-0: 2977\n",
            "item with user-0: 2531\n",
            "item with user-0: 1133\n",
            "item with user-0: 1778\n",
            "item with user-0: 1473\n",
            "item with user-0: 3276\n",
            "item with user-0: 2157\n",
            "item with user-0: 1501\n",
            "item with user-0: 993\n",
            "item with user-0: 3516\n",
            "item with user-0: 2716\n",
            "item with user-0: 2497\n",
            "item with user-0: 453\n",
            "item with user-0: 916\n",
            "item with user-0: 2554\n",
            "item with user-0: 3114\n",
            "item with user-0: 1790\n",
            "item with user-0: 1931\n",
            "item with user-0: 2505\n",
            "item with user-0: 2922\n",
            "item with user-0: 1734\n",
            "item with user-0: 1395\n",
            "item with user-0: 3007\n",
            "item with user-0: 1504\n",
            "item with user-0: 133\n",
            "item with user-0: 3058\n",
            "item with user-0: 1423\n",
            "item with user-0: 183\n",
            "item with user-0: 634\n",
            "item with user-0: 1333\n",
            "item with user-0: 132\n",
            "item with user-0: 467\n",
            "item with user-0: 285\n",
            "item with user-0: 1555\n",
            "item with user-0: 2249\n",
            "item with user-0: 1227\n",
            "item with user-0: 3543\n",
            "item with user-0: 229\n",
            "item with user-0: 2685\n",
            "item with user-0: 3150\n",
            "item with user-0: 21\n",
            "item with user-0: 1448\n",
            "item with user-0: 1424\n",
            "item with user-0: 2609\n"
          ]
        }
      ]
    },
    {
      "cell_type": "code",
      "source": [
        "P[user_id,:] = np.dot(np.linalg.inv(sum_matrix + lam*n_obs*np.identity(K)), sum_qi)\n",
        "print('the one-step sol of q0: %s' %P[user_id,:])"
      ],
      "metadata": {
        "colab": {
          "base_uri": "https://localhost:8080/"
        },
        "id": "iKNDD63PYwLr",
        "outputId": "54e9877e-4a4a-4f17-c0ef-76903e88ad06"
      },
      "execution_count": 8,
      "outputs": [
        {
          "output_type": "stream",
          "name": "stdout",
          "text": [
            "the one-step sol of q0: [ 0.00664027 -0.00767711 -0.00038677  0.00286579 -0.00149553]\n"
          ]
        }
      ]
    },
    {
      "cell_type": "markdown",
      "source": [
        "### Make a `skikit-learn` compatible class\n",
        "\n",
        "\n",
        "- **Parameter**:\n",
        "    - #Users: `n`\n",
        "    - #Items: `m`\n",
        "    - latent factors for users: `P`\n",
        "    - latent factors for items: `Q`\n",
        "    - l2-weight (*hp*): `lam`\n",
        "    - #Latent factors (*hp*): `K`\n",
        "\n",
        "- **Method**:\n",
        "\n",
        "  - `fit`: \n",
        "    - *input*: `train_pair`, `train_rating`\n",
        "    - *output*: fitted P and Q\n",
        "  - `predict`: \n",
        "    - *input*: `test_pair`\n",
        "    - *output*: predicted ratings\n",
        "  - `rmse`: \n",
        "    - *input*: `test_pair`, `test_rating`\n",
        "    - *output*: RMSE for the predicted ratings\n",
        "\n",
        "  - `obj`: \n",
        "    - *input*: `test_pair`, `test_rating`\n",
        "    - *output*: objective function for the MF method\n"
      ],
      "metadata": {
        "id": "Wd8HOOQtZhUw"
      }
    },
    {
      "cell_type": "code",
      "source": [
        "class MF(object):\n",
        "\n",
        "    def __init__(self, n_user, n_item, lam=.001, K=10, iterNum=50, tol=1e-4, verbose=1):\n",
        "        self.P = np.random.randn(n_user, K)\n",
        "        self.Q = np.random.randn(n_item, K)\n",
        "        # self.index_item = []\n",
        "        # self.index_user = []\n",
        "        self.n_user = n_user\n",
        "        self.n_item = n_item\n",
        "        self.lam = lam\n",
        "        self.K = K\n",
        "        self.iterNum = iterNum\n",
        "        self.tol = tol\n",
        "        self.verbose = verbose\n",
        "\n",
        "    def fit(self, train_pair, train_rating):\n",
        "        diff, tol = 1., self.tol\n",
        "        n_user, n_item, n_obs = self.n_user, self.n_item, len(train_pair)\n",
        "        K, iterNum, lam = self.K, self.iterNum, self.lam\n",
        "        ## store user/item index set\n",
        "        self.index_item = [np.where(train_pair[:,1] == i)[0] for i in range(n_item)]\n",
        "        self.index_user = [np.where(train_pair[:,0] == u)[0] for u in range(n_user)]\n",
        "        \n",
        "        if self.verbose:\n",
        "            print('Fitting Reg-MF: K: %d, lam: %.5f' %(K, lam))\n",
        "        \n",
        "        for i in range(iterNum):\n",
        "            ## item update\n",
        "            obj_old = self.obj(test_pair=train_pair, test_rating=train_rating)\n",
        "            for item_id in range(n_item):\n",
        "                index_item_tmp = self.index_item[item_id]\n",
        "                if len(index_item_tmp) == 0:\n",
        "                    self.Q[item_id,:] = 0.\n",
        "                    continue\n",
        "                ## compute `sum_pu` and `sum_matrix`\n",
        "                sum_pu, sum_matrix = np.zeros((K)), np.zeros((K, K))\n",
        "                for record_ind in index_item_tmp:\n",
        "                    ## double-check\n",
        "                    if item_id != train_pair[record_ind][1]:\n",
        "                        raise ValueError('the item_id is worning in updating Q!')\n",
        "                    user_id, rating_tmp = train_pair[record_ind][0], train_rating[record_ind]\n",
        "                    sum_matrix = sum_matrix + np.outer(self.P[user_id,:], self.P[user_id,:])\n",
        "                    sum_pu = sum_pu + rating_tmp * self.P[user_id,:]                    \n",
        "                self.Q[item_id,:] = np.dot(np.linalg.inv(sum_matrix + lam*n_obs*np.identity(K)), sum_pu)\n",
        "            \n",
        "            for user_id in range(n_user):\n",
        "                index_user_tmp = self.index_user[user_id]\n",
        "                if len(index_user_tmp) == 0:\n",
        "                    self.P[user_id,:] = 0.\n",
        "                    continue\n",
        "                ## compute `sum_qi` and `sum_matrix`\n",
        "                sum_qi, sum_matrix = np.zeros((K)), np.zeros((K, K))\n",
        "                for record_ind in index_user_tmp:\n",
        "                    ## double-check\n",
        "                    if user_id != train_pair[record_ind][0]:\n",
        "                        raise ValueError('the user_id is worning in updating P!')\n",
        "                    item_id, rating_tmp = train_pair[record_ind][1], train_rating[record_ind]\n",
        "                    sum_matrix = sum_matrix + np.outer(self.Q[item_id,:], self.Q[item_id,:])\n",
        "                    sum_qi = sum_qi + rating_tmp * self.Q[item_id,:]                    \n",
        "                self.P[user_id,:] = np.dot(np.linalg.inv(sum_matrix + lam*n_obs*np.identity(K)), sum_qi)\n",
        "            # compute the new rmse score\n",
        "            obj_new = self.obj(test_pair=train_pair, test_rating=train_rating)\n",
        "            diff = abs(obj_new - obj_old) / obj_old\n",
        "            if self.verbose:\n",
        "                print(\"Reg-MF: ite: %d; diff: %.3f Obj: %.3f\" %(i, diff, obj_new))\n",
        "            if(diff < tol):\n",
        "                break\n",
        "\n",
        "    def predict(self, test_pair):\n",
        "        # predict ratings for user-item pairs\n",
        "        pred_rating = [np.dot(self.P[line[0]], self.Q[line[1]]) for line in test_pair]\n",
        "        return np.array(pred_rating)\n",
        "    \n",
        "    def rmse(self, test_pair, test_rating):\n",
        "        # report the rmse for the fitted `MF`\n",
        "        pred_rating = self.predict(test_pair=test_pair)\n",
        "        return np.sqrt( np.mean( (pred_rating - test_rating)**2) )\n",
        "      \n",
        "    def obj(self, test_pair, test_rating):\n",
        "        return (self.rmse(test_pair, test_rating))**2 + self.lam*np.sum(self.P**2) + self.lam*np.sum(self.Q**2)"
      ],
      "metadata": {
        "id": "pISsCdUqZkGj"
      },
      "execution_count": 16,
      "outputs": []
    },
    {
      "cell_type": "code",
      "source": [
        "# fitting\n",
        "cue = MF(n_user, n_item, K=5, lam=.0001)\n",
        "cue.fit(train_pair=train_pair, train_rating=train_rating)"
      ],
      "metadata": {
        "colab": {
          "base_uri": "https://localhost:8080/"
        },
        "id": "dkg4VxV8cUSJ",
        "outputId": "0fd8d974-9173-4181-972f-17d24b7b3789"
      },
      "execution_count": 20,
      "outputs": [
        {
          "output_type": "stream",
          "name": "stdout",
          "text": [
            "Fitting Reg-MF: K: 5, lam: 0.00010\n",
            "Reg-MF: ite: 0; diff: 0.559 Obj: 9.882\n",
            "Reg-MF: ite: 1; diff: 0.750 Obj: 2.475\n",
            "Reg-MF: ite: 2; diff: 0.117 Obj: 2.186\n",
            "Reg-MF: ite: 3; diff: 0.054 Obj: 2.068\n",
            "Reg-MF: ite: 4; diff: 0.035 Obj: 1.997\n",
            "Reg-MF: ite: 5; diff: 0.024 Obj: 1.949\n",
            "Reg-MF: ite: 6; diff: 0.016 Obj: 1.917\n",
            "Reg-MF: ite: 7; diff: 0.011 Obj: 1.896\n",
            "Reg-MF: ite: 8; diff: 0.007 Obj: 1.883\n",
            "Reg-MF: ite: 9; diff: 0.004 Obj: 1.875\n",
            "Reg-MF: ite: 10; diff: 0.003 Obj: 1.870\n",
            "Reg-MF: ite: 11; diff: 0.002 Obj: 1.866\n",
            "Reg-MF: ite: 12; diff: 0.001 Obj: 1.864\n",
            "Reg-MF: ite: 13; diff: 0.001 Obj: 1.863\n",
            "Reg-MF: ite: 14; diff: 0.000 Obj: 1.862\n",
            "Reg-MF: ite: 15; diff: 0.000 Obj: 1.862\n",
            "Reg-MF: ite: 16; diff: 0.000 Obj: 1.861\n",
            "Reg-MF: ite: 17; diff: 0.000 Obj: 1.861\n",
            "Reg-MF: ite: 18; diff: 0.000 Obj: 1.861\n",
            "Reg-MF: ite: 19; diff: 0.000 Obj: 1.861\n"
          ]
        }
      ]
    },
    {
      "cell_type": "code",
      "source": [
        "# pediction\n",
        "pred_rating = cue.predict(test_pair)\n",
        "pred_train_rating = cue.predict(train_pair)\n",
        "print('train rmse: %.3f; test rmse: %.3f' %(rmse(train_rating, pred_train_rating), rmse(test_rating, pred_rating)))"
      ],
      "metadata": {
        "colab": {
          "base_uri": "https://localhost:8080/"
        },
        "id": "TbSia1blfFlj",
        "outputId": "ddec71ee-19b4-4737-ac67-e9c9e45e096d"
      },
      "execution_count": 21,
      "outputs": [
        {
          "output_type": "stream",
          "name": "stdout",
          "text": [
            "train rmse: 0.854; test rmse: 1.189\n"
          ]
        }
      ]
    },
    {
      "cell_type": "markdown",
      "source": [
        "### Make a `skikit-learn` compatible class for baseline methods\n",
        "\n",
        "| Method |  Model                   | param                            |\n",
        "|--------| ----------------------   |----------------------------------|\n",
        "| Glb    | $\\hat{r}_{ui}$ = $\\mu_0$ |$\\mu_0$                           |\n",
        "|User    | $\\hat{r}_{ui}$ = $a_u$   |$\\mathbf{a}$ = ($a_1$, ..., $a_n$)|\n",
        "| Item   | $\\hat{r}_{ui}$ = $b_i$   |$\\mathbf{b}$ = ($b_1$, ..., $b_m$)|"
      ],
      "metadata": {
        "id": "0GsRZSJlhNsy"
      }
    },
    {
      "cell_type": "code",
      "source": [
        "class glb_mean(object):\n",
        "\tdef __init__(self):\n",
        "\t\tself.glb_mean = 0\n",
        "\t\n",
        "\tdef fit(self, train_ratings):\n",
        "\t\tself.glb_mean = np.mean(train_ratings)\n",
        "\t\n",
        "\tdef predict(self, test_pair):\n",
        "\t\tpred = np.ones(len(test_pair))\n",
        "\t\tpred = pred*self.glb_mean\n",
        "\t\treturn pred\n",
        "\n",
        "class user_mean(object):\n",
        "\tdef __init__(self, n_user):\n",
        "\t\tself.n_user = n_user\n",
        "\t\tself.glb_mean = 0.\n",
        "\t\tself.user_mean = np.zeros(n_user)\n",
        "\t\n",
        "\tdef fit(self, train_pair, train_ratings):\n",
        "\t\tself.glb_mean = train_ratings.mean()\n",
        "\t\tfor u in range(self.n_user):\n",
        "\t\t\tind_train = np.where(train_pair[:,0] == u)[0]\n",
        "\t\t\tif len(ind_train) == 0:\n",
        "\t\t\t\tself.user_mean[u] = self.glb_mean\n",
        "\t\t\telse:\n",
        "\t\t\t\tself.user_mean[u] = train_ratings[ind_train].mean()\n",
        "\t\n",
        "\tdef predict(self, test_pair):\n",
        "\t\tpred = np.ones(len(test_pair))*self.glb_mean\n",
        "\t\tj = 0\n",
        "\t\tfor row in test_pair:\n",
        "\t\t\tuser_tmp, item_tmp = row[0], row[1]\n",
        "\t\t\tpred[j] = self.user_mean[user_tmp]\n",
        "\t\t\tj = j + 1\n",
        "\t\treturn pred\n",
        "\n",
        "class item_mean(object):\n",
        "\tdef __init__(self, n_item):\n",
        "\t\tself.n_item = n_item\n",
        "\t\tself.glb_mean = 0.\n",
        "\t\tself.item_mean = np.zeros(n_item)\n",
        "\t\n",
        "\tdef fit(self, train_pair, train_ratings):\n",
        "\t\tself.glb_mean = train_ratings.mean()\n",
        "\t\tfor i in range(self.n_item):\n",
        "\t\t\tind_train = np.where(train_pair[:,1] == i)[0]\n",
        "\t\t\tif len(ind_train) == 0:\n",
        "\t\t\t\tself.item_mean[i] = self.glb_mean\n",
        "\t\t\telse:\n",
        "\t\t\t\tself.item_mean[i] = train_ratings[ind_train].mean()\n",
        "\t\n",
        "\tdef predict(self, test_pair):\n",
        "\t\tpred = np.ones(len(test_pair))*self.glb_mean\n",
        "\t\tj = 0\n",
        "\t\tfor row in test_pair:\n",
        "\t\t\tuser_tmp, item_tmp = row[0], row[1]\n",
        "\t\t\tpred[j] = self.item_mean[item_tmp]\n",
        "\t\t\tj = j + 1\n",
        "\t\treturn pred"
      ],
      "metadata": {
        "id": "WDqRbxIhhuiV"
      },
      "execution_count": 23,
      "outputs": []
    },
    {
      "cell_type": "markdown",
      "source": [
        "## Sequential modeling: baseline models + MF"
      ],
      "metadata": {
        "id": "deawyvZ8iLyL"
      }
    },
    {
      "cell_type": "code",
      "source": [
        "## Baseline + LFM\n",
        "# glb mean\n",
        "glb_ave = glb_mean()\n",
        "glb_ave.fit(train_rating)\n",
        "pred = glb_ave.predict(test_pair)\n",
        "\n",
        "# user_mean\n",
        "train_rating_cm = train_rating - glb_ave.predict(train_pair)\n",
        "user_ave = user_mean(n_user=n_user)\n",
        "user_ave.fit(train_pair=train_pair, train_ratings=train_rating_cm)\n",
        "train_rating_res = train_rating_cm - user_ave.predict(train_pair)\n",
        "pred = pred + user_ave.predict(test_pair)\n",
        "\n",
        "# fit MF RS by residual ratings \n",
        "cue = MF(n_user, n_item, K=5, lam=.0001)\n",
        "cue.fit(train_pair=train_pair, train_rating=train_rating_res)\n",
        "pred = pred + cue.predict(test_pair)\n",
        "\n",
        "print('RMSE for glb + user_mean + MF: %.3f' %rmse(test_rating, pred) )"
      ],
      "metadata": {
        "colab": {
          "base_uri": "https://localhost:8080/"
        },
        "id": "TbRMfEaxh4Ga",
        "outputId": "b9e2967e-9f24-42b7-c55b-435082dd98dd"
      },
      "execution_count": 24,
      "outputs": [
        {
          "output_type": "stream",
          "name": "stdout",
          "text": [
            "Fitting Reg-MF: K: 5, lam: 0.00010\n",
            "Reg-MF: ite: 0; diff: 0.895 Obj: 0.923\n",
            "Reg-MF: ite: 1; diff: 0.110 Obj: 0.822\n",
            "Reg-MF: ite: 2; diff: 0.058 Obj: 0.774\n",
            "Reg-MF: ite: 3; diff: 0.021 Obj: 0.758\n",
            "Reg-MF: ite: 4; diff: 0.010 Obj: 0.750\n",
            "Reg-MF: ite: 5; diff: 0.005 Obj: 0.747\n",
            "Reg-MF: ite: 6; diff: 0.003 Obj: 0.744\n",
            "Reg-MF: ite: 7; diff: 0.002 Obj: 0.743\n",
            "Reg-MF: ite: 8; diff: 0.001 Obj: 0.742\n",
            "Reg-MF: ite: 9; diff: 0.001 Obj: 0.741\n",
            "Reg-MF: ite: 10; diff: 0.001 Obj: 0.740\n",
            "Reg-MF: ite: 11; diff: 0.001 Obj: 0.740\n",
            "Reg-MF: ite: 12; diff: 0.001 Obj: 0.739\n",
            "Reg-MF: ite: 13; diff: 0.000 Obj: 0.739\n",
            "Reg-MF: ite: 14; diff: 0.000 Obj: 0.739\n",
            "Reg-MF: ite: 15; diff: 0.000 Obj: 0.739\n",
            "Reg-MF: ite: 16; diff: 0.000 Obj: 0.738\n",
            "Reg-MF: ite: 17; diff: 0.000 Obj: 0.738\n",
            "Reg-MF: ite: 18; diff: 0.000 Obj: 0.738\n",
            "Reg-MF: ite: 19; diff: 0.000 Obj: 0.738\n",
            "Reg-MF: ite: 20; diff: 0.000 Obj: 0.738\n",
            "Reg-MF: ite: 21; diff: 0.000 Obj: 0.738\n",
            "Reg-MF: ite: 22; diff: 0.000 Obj: 0.737\n",
            "Reg-MF: ite: 23; diff: 0.000 Obj: 0.737\n",
            "Reg-MF: ite: 24; diff: 0.000 Obj: 0.737\n",
            "Reg-MF: ite: 25; diff: 0.000 Obj: 0.737\n",
            "Reg-MF: ite: 26; diff: 0.000 Obj: 0.737\n",
            "Reg-MF: ite: 27; diff: 0.000 Obj: 0.737\n",
            "RMSE for glb + user_mean + MF: 0.990\n"
          ]
        }
      ]
    },
    {
      "cell_type": "markdown",
      "source": [
        "## To-do list\n",
        "\n",
        "- **STAT**\n",
        "  - [ ] Idea and movitation of Matrix factorization (MF)\n",
        "  - [ ] Idea of Blockwise coordinate descent (BCD)\n",
        "  - [ ] Use BCD to solve regularized MF\n",
        "  - [ ] Able to find a solution of BCD to a general QP\n",
        "  - [ ] Use MF to make prediction for RS\n",
        "\n",
        "- **Code**\n",
        "  - [ ] Param and hps of MF\n",
        "  - [ ] Implement MF by using MF\n",
        "  - [ ] Implement BCD for a general QP"
      ],
      "metadata": {
        "id": "r31-cmUKM4ke"
      }
    }
  ]
}